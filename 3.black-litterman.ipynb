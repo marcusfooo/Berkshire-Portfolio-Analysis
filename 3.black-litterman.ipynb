{
 "cells": [
  {
   "cell_type": "code",
   "execution_count": 1,
   "metadata": {},
   "outputs": [],
   "source": [
    "#!pip install yfinance"
   ]
  },
  {
   "cell_type": "code",
   "execution_count": 2,
   "metadata": {},
   "outputs": [],
   "source": [
    "import numpy as np\n",
    "import pandas as pd\n",
    "import matplotlib.pyplot as plt\n",
    "import yfinance as yf\n",
    "import pypfopt"
   ]
  },
  {
   "cell_type": "code",
   "execution_count": 3,
   "metadata": {},
   "outputs": [
    {
     "name": "stdout",
     "output_type": "stream",
     "text": [
      "[*********************100%***********************]  10 of 10 completed\n",
      "(5191, 10)\n"
     ]
    },
    {
     "data": {
      "text/html": [
       "<div>\n",
       "<style scoped>\n",
       "    .dataframe tbody tr th:only-of-type {\n",
       "        vertical-align: middle;\n",
       "    }\n",
       "\n",
       "    .dataframe tbody tr th {\n",
       "        vertical-align: top;\n",
       "    }\n",
       "\n",
       "    .dataframe thead th {\n",
       "        text-align: right;\n",
       "    }\n",
       "</style>\n",
       "<table border=\"1\" class=\"dataframe\">\n",
       "  <thead>\n",
       "    <tr style=\"text-align: right;\">\n",
       "      <th></th>\n",
       "      <th>AAPL</th>\n",
       "      <th>AMZN</th>\n",
       "      <th>APA</th>\n",
       "      <th>AXP</th>\n",
       "      <th>KO</th>\n",
       "      <th>NFLX</th>\n",
       "      <th>SU</th>\n",
       "      <th>TSLA</th>\n",
       "      <th>UAA</th>\n",
       "      <th>XRX</th>\n",
       "    </tr>\n",
       "    <tr>\n",
       "      <th>Date</th>\n",
       "      <th></th>\n",
       "      <th></th>\n",
       "      <th></th>\n",
       "      <th></th>\n",
       "      <th></th>\n",
       "      <th></th>\n",
       "      <th></th>\n",
       "      <th></th>\n",
       "      <th></th>\n",
       "      <th></th>\n",
       "    </tr>\n",
       "  </thead>\n",
       "  <tbody>\n",
       "    <tr>\n",
       "      <td>1999-12-31</td>\n",
       "      <td>3.173011</td>\n",
       "      <td>76.1250</td>\n",
       "      <td>12.651278</td>\n",
       "      <td>35.990559</td>\n",
       "      <td>12.303241</td>\n",
       "      <td>NaN</td>\n",
       "      <td>3.156762</td>\n",
       "      <td>NaN</td>\n",
       "      <td>NaN</td>\n",
       "      <td>47.894314</td>\n",
       "    </tr>\n",
       "    <tr>\n",
       "      <td>2000-01-03</td>\n",
       "      <td>3.454628</td>\n",
       "      <td>89.3750</td>\n",
       "      <td>11.687977</td>\n",
       "      <td>34.042202</td>\n",
       "      <td>11.907217</td>\n",
       "      <td>NaN</td>\n",
       "      <td>3.100056</td>\n",
       "      <td>NaN</td>\n",
       "      <td>NaN</td>\n",
       "      <td>51.060867</td>\n",
       "    </tr>\n",
       "    <tr>\n",
       "      <td>2000-01-04</td>\n",
       "      <td>3.163368</td>\n",
       "      <td>81.9375</td>\n",
       "      <td>11.174217</td>\n",
       "      <td>32.756821</td>\n",
       "      <td>11.920419</td>\n",
       "      <td>NaN</td>\n",
       "      <td>3.204020</td>\n",
       "      <td>NaN</td>\n",
       "      <td>NaN</td>\n",
       "      <td>48.685936</td>\n",
       "    </tr>\n",
       "    <tr>\n",
       "      <td>2000-01-05</td>\n",
       "      <td>3.209661</td>\n",
       "      <td>69.7500</td>\n",
       "      <td>11.495318</td>\n",
       "      <td>32.040653</td>\n",
       "      <td>12.026028</td>\n",
       "      <td>NaN</td>\n",
       "      <td>3.478111</td>\n",
       "      <td>NaN</td>\n",
       "      <td>NaN</td>\n",
       "      <td>51.192802</td>\n",
       "    </tr>\n",
       "    <tr>\n",
       "      <td>2000-01-06</td>\n",
       "      <td>2.931901</td>\n",
       "      <td>65.5625</td>\n",
       "      <td>12.587049</td>\n",
       "      <td>32.693417</td>\n",
       "      <td>12.039227</td>\n",
       "      <td>NaN</td>\n",
       "      <td>3.383597</td>\n",
       "      <td>NaN</td>\n",
       "      <td>NaN</td>\n",
       "      <td>50.137272</td>\n",
       "    </tr>\n",
       "  </tbody>\n",
       "</table>\n",
       "</div>"
      ],
      "text/plain": [
       "                AAPL     AMZN        APA        AXP         KO  NFLX  \\\n",
       "Date                                                                   \n",
       "1999-12-31  3.173011  76.1250  12.651278  35.990559  12.303241   NaN   \n",
       "2000-01-03  3.454628  89.3750  11.687977  34.042202  11.907217   NaN   \n",
       "2000-01-04  3.163368  81.9375  11.174217  32.756821  11.920419   NaN   \n",
       "2000-01-05  3.209661  69.7500  11.495318  32.040653  12.026028   NaN   \n",
       "2000-01-06  2.931901  65.5625  12.587049  32.693417  12.039227   NaN   \n",
       "\n",
       "                  SU  TSLA  UAA        XRX  \n",
       "Date                                        \n",
       "1999-12-31  3.156762   NaN  NaN  47.894314  \n",
       "2000-01-03  3.100056   NaN  NaN  51.060867  \n",
       "2000-01-04  3.204020   NaN  NaN  48.685936  \n",
       "2000-01-05  3.478111   NaN  NaN  51.192802  \n",
       "2000-01-06  3.383597   NaN  NaN  50.137272  "
      ]
     },
     "execution_count": 3,
     "metadata": {},
     "output_type": "execute_result"
    }
   ],
   "source": [
    "symbols_list = ['AAPL', 'AXP', 'UAA', 'APA', 'SU', 'NFLX', 'XRX','AMZN', 'KO', 'TSLA']\n",
    "stock_data = yf.download(symbols_list, start=\"2000-01-01\")\n",
    "prices = stock_data[\"Adj Close\"]\n",
    "print(prices.shape)\n",
    "prices.head()"
   ]
  },
  {
   "cell_type": "code",
   "execution_count": 4,
   "metadata": {},
   "outputs": [
    {
     "name": "stdout",
     "output_type": "stream",
     "text": [
      "[*********************100%***********************]  1 of 1 completed\n",
      "(5190,)\n"
     ]
    },
    {
     "data": {
      "text/plain": [
       "Date\n",
       "2020-08-11    332.799988\n",
       "2020-08-12    337.440002\n",
       "2020-08-13    336.829987\n",
       "2020-08-14    336.839996\n",
       "2020-08-17    337.910004\n",
       "Name: Adj Close, dtype: float64"
      ]
     },
     "execution_count": 4,
     "metadata": {},
     "output_type": "execute_result"
    }
   ],
   "source": [
    "market_prices = yf.download(\"SPY\", start=\"2000-01-01\")[\"Adj Close\"]\n",
    "print(market_prices.shape)\n",
    "market_prices.tail()"
   ]
  },
  {
   "cell_type": "code",
   "execution_count": 5,
   "metadata": {},
   "outputs": [
    {
     "name": "stdout",
     "output_type": "stream",
     "text": [
      "1960077033472\n",
      "78543462400\n",
      "4501199360\n",
      "5788334080\n",
      "25826981888\n",
      "212723597312\n",
      "3857683712\n",
      "1594037239808\n",
      "207083159552\n",
      "342093529088\n"
     ]
    },
    {
     "data": {
      "text/plain": [
       "{'AAPL': 1960077033472,\n",
       " 'AXP': 78543462400,\n",
       " 'UAA': 4501199360,\n",
       " 'APA': 5788334080,\n",
       " 'SU': 25826981888,\n",
       " 'NFLX': 212723597312,\n",
       " 'XRX': 3857683712,\n",
       " 'AMZN': 1594037239808,\n",
       " 'KO': 207083159552,\n",
       " 'TSLA': 342093529088}"
      ]
     },
     "execution_count": 5,
     "metadata": {},
     "output_type": "execute_result"
    }
   ],
   "source": [
    "mkt_caps = {}\n",
    "for symbol in symbols_list:\n",
    "    stock = yf.Ticker(symbol)\n",
    "    print(stock.info[\"marketCap\"])\n",
    "    mkt_caps[symbol] = stock.info[\"marketCap\"]\n",
    "\n",
    "mkt_caps"
   ]
  },
  {
   "cell_type": "markdown",
   "metadata": {},
   "source": [
    "# Constructing the prior"
   ]
  },
  {
   "cell_type": "code",
   "execution_count": 6,
   "metadata": {},
   "outputs": [
    {
     "data": {
      "text/plain": [
       "1.4859946910327888"
      ]
     },
     "execution_count": 6,
     "metadata": {},
     "output_type": "execute_result"
    }
   ],
   "source": [
    "from pypfopt import black_litterman, risk_models\n",
    "from pypfopt import BlackLittermanModel, plotting\n",
    "\n",
    "S = risk_models.CovarianceShrinkage(prices).ledoit_wolf()\n",
    "delta = black_litterman.market_implied_risk_aversion(market_prices)\n",
    "delta"
   ]
  },
  {
   "cell_type": "code",
   "execution_count": 7,
   "metadata": {},
   "outputs": [
    {
     "data": {
      "image/png": "[encoded data removed]",
      "text/plain": [
       "<Figure size 432x288 with 2 Axes>"
      ]
     },
     "metadata": {
      "needs_background": "light"
     },
     "output_type": "display_data"
    }
   ],
   "source": [
    "plotting.plot_covariance(S);"
   ]
  },
  {
   "cell_type": "code",
   "execution_count": 8,
   "metadata": {},
   "outputs": [
    {
     "data": {
      "text/plain": [
       "AAPL    0.177040\n",
       "AMZN    0.223079\n",
       "APA     0.077383\n",
       "AXP     0.099261\n",
       "KO      0.048164\n",
       "NFLX    0.112331\n",
       "SU      0.074309\n",
       "TSLA    0.069518\n",
       "UAA     0.077587\n",
       "XRX     0.093631\n",
       "dtype: float64"
      ]
     },
     "execution_count": 8,
     "metadata": {},
     "output_type": "execute_result"
    }
   ],
   "source": [
    "market_prior = black_litterman.market_implied_prior_returns(mkt_caps, delta, S)\n",
    "market_prior"
   ]
  },
  {
   "cell_type": "code",
   "execution_count": 9,
   "metadata": {},
   "outputs": [
    {
     "data": {
      "image/png": "[encoded data removed]",
      "text/plain": [
       "<Figure size 720x360 with 1 Axes>"
      ]
     },
     "metadata": {
      "needs_background": "light"
     },
     "output_type": "display_data"
    }
   ],
   "source": [
    "market_prior.plot.barh(figsize=(10,5));"
   ]
  },
  {
   "cell_type": "markdown",
   "metadata": {},
   "source": [
    "# Personal investment views"
   ]
  },
  {
   "cell_type": "code",
   "execution_count": 10,
   "metadata": {},
   "outputs": [
    {
     "name": "stdout",
     "output_type": "stream",
     "text": [
      "[0.015625, 0.022500000000000006, 0.015625, 0.0056250000000000015, 0.005624999999999997, 0.015625, 0.010000000000000002, 0.00039999999999999986, 0.0025000000000000005, 0.04000000000000001]\n"
     ]
    }
   ],
   "source": [
    "# You don't have to provide views on all the assets\n",
    "viewdict = {\n",
    "    \"AAPL\": 0.10, # I think Apple will go up 10%\n",
    "    \"APA\": 0.25,\n",
    "    \"AXP\": 0.05,\n",
    "    \"XRX\": 0.05,\n",
    "    \"AMZN\": 0.30, \n",
    "    \"NFLX\": 0.30,\n",
    "    \"UAA\": 0.15,\n",
    "    \"SU\": 0.10,\n",
    "    \"KO\": 0.10,\n",
    "    \"TSLA\": 0.30\n",
    "}\n",
    "\n",
    "intervals = [\n",
    "    (0, 0.25),\n",
    "    (0.1, 0.4),\n",
    "    (-0.05, 0.20),\n",
    "    (-0.05, 0.10),\n",
    "    (0.20, 0.35),\n",
    "    (0.20, 0.45),\n",
    "    (0.00, 0.2),\n",
    "    (0.08, 0.12),\n",
    "    (0.1, 0.2),\n",
    "    (0.10, 0.50)\n",
    "]\n",
    "\n",
    "\n",
    "variances = []\n",
    "for lb, ub in intervals:\n",
    "    sigma = (ub - lb)/2\n",
    "    variances.append(sigma ** 2)\n",
    "\n",
    "print(variances)\n",
    "omega = np.diag(variances)\n",
    "\n",
    "bl = BlackLittermanModel(S, pi=\"market\", market_caps=mkt_caps, risk_averison=\"delta\", absolute_views=viewdict, omega=omega)"
   ]
  },
  {
   "cell_type": "code",
   "execution_count": 11,
   "metadata": {},
   "outputs": [
    {
     "data": {
      "image/png": "[encoded data removed]",
      "text/plain": [
       "<Figure size 504x504 with 1 Axes>"
      ]
     },
     "metadata": {
      "needs_background": "light"
     },
     "output_type": "display_data"
    }
   ],
   "source": [
    "# Shows investor's forward view\n",
    "fig, ax = plt.subplots(figsize=(7,7))\n",
    "im = ax.imshow(bl.omega)\n",
    "\n",
    "ax.set_xticks(np.arange(len(bl.tickers)))\n",
    "ax.set_yticks(np.arange(len(bl.tickers)))\n",
    "\n",
    "ax.set_xticklabels(bl.tickers)\n",
    "ax.set_yticklabels(bl.tickers)\n",
    "plt.show()"
   ]
  },
  {
   "cell_type": "markdown",
   "metadata": {},
   "source": [
    "# Estimate posterior returns"
   ]
  },
  {
   "cell_type": "code",
   "execution_count": 12,
   "metadata": {},
   "outputs": [
    {
     "data": {
      "text/plain": [
       "AAPL    0.139655\n",
       "AMZN    0.235584\n",
       "APA     0.131291\n",
       "AXP     0.097365\n",
       "KO      0.063948\n",
       "NFLX    0.198299\n",
       "SU      0.099833\n",
       "TSLA    0.135380\n",
       "UAA     0.120099\n",
       "XRX     0.077692\n",
       "dtype: float64"
      ]
     },
     "execution_count": 12,
     "metadata": {},
     "output_type": "execute_result"
    }
   ],
   "source": [
    "ret_bl = bl.bl_returns()\n",
    "ret_bl"
   ]
  },
  {
   "cell_type": "code",
   "execution_count": 13,
   "metadata": {},
   "outputs": [
    {
     "data": {
      "text/html": [
       "<div>\n",
       "<style scoped>\n",
       "    .dataframe tbody tr th:only-of-type {\n",
       "        vertical-align: middle;\n",
       "    }\n",
       "\n",
       "    .dataframe tbody tr th {\n",
       "        vertical-align: top;\n",
       "    }\n",
       "\n",
       "    .dataframe thead th {\n",
       "        text-align: right;\n",
       "    }\n",
       "</style>\n",
       "<table border=\"1\" class=\"dataframe\">\n",
       "  <thead>\n",
       "    <tr style=\"text-align: right;\">\n",
       "      <th></th>\n",
       "      <th>Prior</th>\n",
       "      <th>Posterior</th>\n",
       "      <th>Views</th>\n",
       "    </tr>\n",
       "  </thead>\n",
       "  <tbody>\n",
       "    <tr>\n",
       "      <td>AAPL</td>\n",
       "      <td>0.177040</td>\n",
       "      <td>0.139655</td>\n",
       "      <td>0.10</td>\n",
       "    </tr>\n",
       "    <tr>\n",
       "      <td>AMZN</td>\n",
       "      <td>0.223079</td>\n",
       "      <td>0.235584</td>\n",
       "      <td>0.30</td>\n",
       "    </tr>\n",
       "    <tr>\n",
       "      <td>APA</td>\n",
       "      <td>0.077383</td>\n",
       "      <td>0.131291</td>\n",
       "      <td>0.25</td>\n",
       "    </tr>\n",
       "    <tr>\n",
       "      <td>AXP</td>\n",
       "      <td>0.099261</td>\n",
       "      <td>0.097365</td>\n",
       "      <td>0.05</td>\n",
       "    </tr>\n",
       "    <tr>\n",
       "      <td>KO</td>\n",
       "      <td>0.048164</td>\n",
       "      <td>0.063948</td>\n",
       "      <td>0.10</td>\n",
       "    </tr>\n",
       "    <tr>\n",
       "      <td>NFLX</td>\n",
       "      <td>0.112331</td>\n",
       "      <td>0.198299</td>\n",
       "      <td>0.30</td>\n",
       "    </tr>\n",
       "    <tr>\n",
       "      <td>SU</td>\n",
       "      <td>0.074309</td>\n",
       "      <td>0.099833</td>\n",
       "      <td>0.10</td>\n",
       "    </tr>\n",
       "    <tr>\n",
       "      <td>TSLA</td>\n",
       "      <td>0.069518</td>\n",
       "      <td>0.135380</td>\n",
       "      <td>0.30</td>\n",
       "    </tr>\n",
       "    <tr>\n",
       "      <td>UAA</td>\n",
       "      <td>0.077587</td>\n",
       "      <td>0.120099</td>\n",
       "      <td>0.15</td>\n",
       "    </tr>\n",
       "    <tr>\n",
       "      <td>XRX</td>\n",
       "      <td>0.093631</td>\n",
       "      <td>0.077692</td>\n",
       "      <td>0.05</td>\n",
       "    </tr>\n",
       "  </tbody>\n",
       "</table>\n",
       "</div>"
      ],
      "text/plain": [
       "         Prior  Posterior  Views\n",
       "AAPL  0.177040   0.139655   0.10\n",
       "AMZN  0.223079   0.235584   0.30\n",
       "APA   0.077383   0.131291   0.25\n",
       "AXP   0.099261   0.097365   0.05\n",
       "KO    0.048164   0.063948   0.10\n",
       "NFLX  0.112331   0.198299   0.30\n",
       "SU    0.074309   0.099833   0.10\n",
       "TSLA  0.069518   0.135380   0.30\n",
       "UAA   0.077587   0.120099   0.15\n",
       "XRX   0.093631   0.077692   0.05"
      ]
     },
     "execution_count": 13,
     "metadata": {},
     "output_type": "execute_result"
    }
   ],
   "source": [
    "rets_df = pd.DataFrame([market_prior, ret_bl, pd.Series(viewdict)], \n",
    "             index=[\"Prior\", \"Posterior\", \"Views\"]).T\n",
    "rets_df"
   ]
  },
  {
   "cell_type": "code",
   "execution_count": 14,
   "metadata": {},
   "outputs": [
    {
     "data": {
      "image/png": "[encoded data removed]",
      "text/plain": [
       "<Figure size 864x576 with 1 Axes>"
      ]
     },
     "metadata": {
      "needs_background": "light"
     },
     "output_type": "display_data"
    }
   ],
   "source": [
    "rets_df.plot.bar(figsize=(12,8));"
   ]
  },
  {
   "cell_type": "code",
   "execution_count": 15,
   "metadata": {},
   "outputs": [
    {
     "data": {
      "image/png": "[encoded data removed]",
      "text/plain": [
       "<Figure size 432x288 with 2 Axes>"
      ]
     },
     "metadata": {
      "needs_background": "light"
     },
     "output_type": "display_data"
    }
   ],
   "source": [
    "# Estimate of covariance matrix, factoring investor views\n",
    "S_bl = bl.bl_cov()\n",
    "plotting.plot_covariance(S_bl);"
   ]
  },
  {
   "cell_type": "code",
   "execution_count": 16,
   "metadata": {},
   "outputs": [
    {
     "name": "stderr",
     "output_type": "stream",
     "text": [
      "C:\\Users\\Marcus\\Anaconda3\\lib\\site-packages\\pypfopt\\efficient_frontier.py:182: UserWarning: max_sharpe transforms the optimisation problem so additional objectives may not work as expected.\n",
      "  \"max_sharpe transforms the optimisation problem so additional objectives may not work as expected.\"\n"
     ]
    },
    {
     "data": {
      "text/plain": [
       "OrderedDict([('AAPL', 0.10839),\n",
       "             ('AMZN', 0.24573),\n",
       "             ('APA', 0.09301),\n",
       "             ('AXP', 0.025),\n",
       "             ('KO', 0.06168),\n",
       "             ('NFLX', 0.16769),\n",
       "             ('SU', 0.025),\n",
       "             ('TSLA', 0.17558),\n",
       "             ('UAA', 0.07292),\n",
       "             ('XRX', 0.025)])"
      ]
     },
     "execution_count": 16,
     "metadata": {},
     "output_type": "execute_result"
    }
   ],
   "source": [
    "from pypfopt import EfficientFrontier, objective_functions\n",
    "ef = EfficientFrontier(ret_bl, S_bl, weight_bounds=(0,0.25))\n",
    "ef.add_objective(objective_functions.L2_reg, gamma=0.1)\n",
    "ef.add_constraint(lambda x : x >= 0.025)\n",
    "ef.max_sharpe()\n",
    "weights = ef.clean_weights()\n",
    "weights"
   ]
  },
  {
   "cell_type": "code",
   "execution_count": 17,
   "metadata": {},
   "outputs": [
    {
     "data": {
      "image/png": "[encoded data removed]",
      "text/plain": [
       "<Figure size 720x720 with 1 Axes>"
      ]
     },
     "metadata": {},
     "output_type": "display_data"
    }
   ],
   "source": [
    "pd.Series(weights).plot.pie(figsize=(10,10));"
   ]
  },
  {
   "cell_type": "code",
   "execution_count": 18,
   "metadata": {},
   "outputs": [
    {
     "name": "stdout",
     "output_type": "stream",
     "text": [
      "Leftover: $8.51\n"
     ]
    },
    {
     "data": {
      "text/plain": [
       "{'AAPL': 23.0,\n",
       " 'AMZN': 8.0,\n",
       " 'APA': 589.0,\n",
       " 'AXP': 23.0,\n",
       " 'KO': 122.0,\n",
       " 'NFLX': 34.0,\n",
       " 'SU': 147.0,\n",
       " 'TSLA': 10.0,\n",
       " 'UAA': 676.0,\n",
       " 'XRX': 138.0}"
      ]
     },
     "execution_count": 18,
     "metadata": {},
     "output_type": "execute_result"
    }
   ],
   "source": [
    "from pypfopt import DiscreteAllocation\n",
    "\n",
    "da = DiscreteAllocation(weights, prices.iloc[-1], total_portfolio_value=100000)\n",
    "alloc, leftover = da.lp_portfolio()\n",
    "print(f\"Leftover: ${leftover:.2f}\")\n",
    "alloc"
   ]
  },
  {
   "cell_type": "code",
   "execution_count": 19,
   "metadata": {},
   "outputs": [
    {
     "name": "stdout",
     "output_type": "stream",
     "text": [
      "Black-Litterman Portfolio Analysis:\n",
      "\tExpected annual return: 0.161836\n",
      "\tAnnual Volatility: 0.262475\n",
      "\tSharpe ratio: 0.540379\n"
     ]
    }
   ],
   "source": [
    "print(\"Black-Litterman Portfolio Analysis:\")\n",
    "print(\"\\tExpected annual return: %f\\n\\tAnnual Volatility: %f\\n\\tSharpe ratio: %f\" % (ef.portfolio_performance()))"
   ]
  },
  {
   "cell_type": "markdown",
   "metadata": {},
   "source": [
    "# Allow shorting"
   ]
  },
  {
   "cell_type": "code",
   "execution_count": 20,
   "metadata": {},
   "outputs": [
    {
     "data": {
      "text/plain": [
       "OrderedDict([('AAPL', 0.12217),\n",
       "             ('AMZN', 0.25691),\n",
       "             ('APA', 0.10447),\n",
       "             ('AXP', 0.00299),\n",
       "             ('KO', 0.07456),\n",
       "             ('NFLX', 0.17511),\n",
       "             ('SU', 0.03464),\n",
       "             ('TSLA', 0.18332),\n",
       "             ('UAA', 0.08476),\n",
       "             ('XRX', -0.03893)])"
      ]
     },
     "execution_count": 20,
     "metadata": {},
     "output_type": "execute_result"
    }
   ],
   "source": [
    "ef_with_short = EfficientFrontier(ret_bl, S_bl, weight_bounds=(-1,1))\n",
    "ef_with_short.add_objective(objective_functions.L2_reg, gamma=0.1)\n",
    "ef_with_short.max_sharpe()\n",
    "weights_with_short = ef_with_short.clean_weights()\n",
    "weights_with_short"
   ]
  },
  {
   "cell_type": "code",
   "execution_count": 21,
   "metadata": {},
   "outputs": [
    {
     "name": "stdout",
     "output_type": "stream",
     "text": [
      "Black-Litterman with shorts Portfolio Analysis:\n",
      "\tExpected annual return: 0.166515\n",
      "\tAnnual Volatility: 0.266553\n",
      "\tSharpe ratio: 0.549668\n"
     ]
    }
   ],
   "source": [
    "print(\"Black-Litterman with shorts Portfolio Analysis:\")\n",
    "print(\"\\tExpected annual return: %f\\n\\tAnnual Volatility: %f\\n\\tSharpe ratio: %f\" % (ef_with_short.portfolio_performance()))"
   ]
  },
  {
   "cell_type": "code",
   "execution_count": null,
   "metadata": {},
   "outputs": [],
   "source": []
  }
 ],
 "metadata": {
  "kernelspec": {
   "display_name": "Python 3",
   "language": "python",
   "name": "python3"
  },
  "language_info": {
   "codemirror_mode": {
    "name": "ipython",
    "version": 3
   },
   "file_extension": ".py",
   "mimetype": "text/x-python",
   "name": "python",
   "nbconvert_exporter": "python",
   "pygments_lexer": "ipython3",
   "version": "3.7.4"
  }
 },
 "nbformat": 4,
 "nbformat_minor": 4
}
