{
 "cells": [
  {
   "cell_type": "code",
   "execution_count": null,
   "metadata": {},
   "outputs": [],
   "source": [
    "#!pip install yfinance"
   ]
  },
  {
   "cell_type": "code",
   "execution_count": 1,
   "metadata": {},
   "outputs": [],
   "source": [
    "import numpy as np\n",
    "import pandas as pd\n",
    "import matplotlib.pyplot as plt\n",
    "import yfinance as yf\n",
    "import pypfopt"
   ]
  },
  {
   "cell_type": "markdown",
   "metadata": {},
   "source": [
    "# Import Data\n",
    "Download data from yahoo finance directly instead of referencing csv"
   ]
  },
  {
   "cell_type": "code",
   "execution_count": 3,
   "metadata": {},
   "outputs": [
    {
     "name": "stdout",
     "output_type": "stream",
     "text": [
      "[*********************100%***********************]  10 of 10 completed\n",
      "(5033, 10)\n"
     ]
    },
    {
     "data": {
      "text/html": [
       "<div>\n",
       "<style scoped>\n",
       "    .dataframe tbody tr th:only-of-type {\n",
       "        vertical-align: middle;\n",
       "    }\n",
       "\n",
       "    .dataframe tbody tr th {\n",
       "        vertical-align: top;\n",
       "    }\n",
       "\n",
       "    .dataframe thead th {\n",
       "        text-align: right;\n",
       "    }\n",
       "</style>\n",
       "<table border=\"1\" class=\"dataframe\">\n",
       "  <thead>\n",
       "    <tr style=\"text-align: right;\">\n",
       "      <th></th>\n",
       "      <th>AAPL</th>\n",
       "      <th>AMZN</th>\n",
       "      <th>APA</th>\n",
       "      <th>AXP</th>\n",
       "      <th>KO</th>\n",
       "      <th>NFLX</th>\n",
       "      <th>SU</th>\n",
       "      <th>TSLA</th>\n",
       "      <th>UAA</th>\n",
       "      <th>XRX</th>\n",
       "    </tr>\n",
       "    <tr>\n",
       "      <th>Date</th>\n",
       "      <th></th>\n",
       "      <th></th>\n",
       "      <th></th>\n",
       "      <th></th>\n",
       "      <th></th>\n",
       "      <th></th>\n",
       "      <th></th>\n",
       "      <th></th>\n",
       "      <th></th>\n",
       "      <th></th>\n",
       "    </tr>\n",
       "  </thead>\n",
       "  <tbody>\n",
       "    <tr>\n",
       "      <td>1999-12-31</td>\n",
       "      <td>0.793253</td>\n",
       "      <td>76.1250</td>\n",
       "      <td>12.361215</td>\n",
       "      <td>35.840862</td>\n",
       "      <td>12.204452</td>\n",
       "      <td>NaN</td>\n",
       "      <td>3.124838</td>\n",
       "      <td>NaN</td>\n",
       "      <td>NaN</td>\n",
       "      <td>47.249874</td>\n",
       "    </tr>\n",
       "    <tr>\n",
       "      <td>2000-01-03</td>\n",
       "      <td>0.863657</td>\n",
       "      <td>89.3750</td>\n",
       "      <td>11.420005</td>\n",
       "      <td>33.900600</td>\n",
       "      <td>11.811604</td>\n",
       "      <td>NaN</td>\n",
       "      <td>3.068704</td>\n",
       "      <td>NaN</td>\n",
       "      <td>NaN</td>\n",
       "      <td>50.373814</td>\n",
       "    </tr>\n",
       "    <tr>\n",
       "      <td>2000-01-04</td>\n",
       "      <td>0.790842</td>\n",
       "      <td>81.9375</td>\n",
       "      <td>10.918026</td>\n",
       "      <td>32.620586</td>\n",
       "      <td>11.824701</td>\n",
       "      <td>NaN</td>\n",
       "      <td>3.171617</td>\n",
       "      <td>NaN</td>\n",
       "      <td>NaN</td>\n",
       "      <td>48.030865</td>\n",
       "    </tr>\n",
       "    <tr>\n",
       "      <td>2000-01-05</td>\n",
       "      <td>0.802415</td>\n",
       "      <td>69.7500</td>\n",
       "      <td>11.231760</td>\n",
       "      <td>31.907393</td>\n",
       "      <td>11.929461</td>\n",
       "      <td>NaN</td>\n",
       "      <td>3.442935</td>\n",
       "      <td>NaN</td>\n",
       "      <td>NaN</td>\n",
       "      <td>50.503986</td>\n",
       "    </tr>\n",
       "    <tr>\n",
       "      <td>2000-01-06</td>\n",
       "      <td>0.732975</td>\n",
       "      <td>65.5625</td>\n",
       "      <td>12.298465</td>\n",
       "      <td>32.557430</td>\n",
       "      <td>11.942557</td>\n",
       "      <td>NaN</td>\n",
       "      <td>3.349378</td>\n",
       "      <td>NaN</td>\n",
       "      <td>NaN</td>\n",
       "      <td>49.462685</td>\n",
       "    </tr>\n",
       "  </tbody>\n",
       "</table>\n",
       "</div>"
      ],
      "text/plain": [
       "                AAPL     AMZN        APA        AXP         KO  NFLX  \\\n",
       "Date                                                                   \n",
       "1999-12-31  0.793253  76.1250  12.361215  35.840862  12.204452   NaN   \n",
       "2000-01-03  0.863657  89.3750  11.420005  33.900600  11.811604   NaN   \n",
       "2000-01-04  0.790842  81.9375  10.918026  32.620586  11.824701   NaN   \n",
       "2000-01-05  0.802415  69.7500  11.231760  31.907393  11.929461   NaN   \n",
       "2000-01-06  0.732975  65.5625  12.298465  32.557430  11.942557   NaN   \n",
       "\n",
       "                  SU  TSLA  UAA        XRX  \n",
       "Date                                        \n",
       "1999-12-31  3.124838   NaN  NaN  47.249874  \n",
       "2000-01-03  3.068704   NaN  NaN  50.373814  \n",
       "2000-01-04  3.171617   NaN  NaN  48.030865  \n",
       "2000-01-05  3.442935   NaN  NaN  50.503986  \n",
       "2000-01-06  3.349378   NaN  NaN  49.462685  "
      ]
     },
     "execution_count": 3,
     "metadata": {},
     "output_type": "execute_result"
    }
   ],
   "source": [
    "symbols_list = ['AAPL', 'AXP', 'UAA', 'APA', 'SU', 'NFLX', 'XRX','AMZN', 'KO', 'TSLA']\n",
    "stock_data = yf.download(symbols_list, start=\"2000-01-01\", end=\"2020-01-01\")\n",
    "prices = stock_data[\"Adj Close\"]\n",
    "print(prices.shape)\n",
    "prices.head()"
   ]
  },
  {
   "cell_type": "code",
   "execution_count": 6,
   "metadata": {},
   "outputs": [
    {
     "name": "stdout",
     "output_type": "stream",
     "text": [
      "[*********************100%***********************]  1 of 1 completed\n",
      "(5032,)\n"
     ]
    },
    {
     "data": {
      "text/plain": [
       "Date\n",
       "2019-12-24    316.685272\n",
       "2019-12-26    318.371063\n",
       "2019-12-27    318.292175\n",
       "2019-12-30    316.537384\n",
       "2019-12-31    317.306335\n",
       "Name: Adj Close, dtype: float64"
      ]
     },
     "execution_count": 6,
     "metadata": {},
     "output_type": "execute_result"
    }
   ],
   "source": [
    "market_prices = yf.download(\"SPY\", start=\"2000-01-01\", end=\"2020-01-01\")[\"Adj Close\"]\n",
    "print(market_prices.shape)\n",
    "market_prices.tail()"
   ]
  },
  {
   "cell_type": "code",
   "execution_count": 7,
   "metadata": {},
   "outputs": [
    {
     "name": "stdout",
     "output_type": "stream",
     "text": [
      "1966274379776\n",
      "85395374080\n",
      "5346873344\n",
      "3827434496\n",
      "19540854784\n",
      "234527358976\n",
      "4380848640\n",
      "1598114627584\n",
      "216747884544\n",
      "396876120064\n"
     ]
    },
    {
     "data": {
      "text/plain": [
       "{'AAPL': 1966274379776,\n",
       " 'AXP': 85395374080,\n",
       " 'UAA': 5346873344,\n",
       " 'APA': 3827434496,\n",
       " 'SU': 19540854784,\n",
       " 'NFLX': 234527358976,\n",
       " 'XRX': 4380848640,\n",
       " 'AMZN': 1598114627584,\n",
       " 'KO': 216747884544,\n",
       " 'TSLA': 396876120064}"
      ]
     },
     "execution_count": 7,
     "metadata": {},
     "output_type": "execute_result"
    }
   ],
   "source": [
    "mkt_caps = {}\n",
    "for symbol in symbols_list:\n",
    "    stock = yf.Ticker(symbol)\n",
    "    print(stock.info[\"marketCap\"])\n",
    "    mkt_caps[symbol] = stock.info[\"marketCap\"]\n",
    "\n",
    "mkt_caps"
   ]
  },
  {
   "cell_type": "markdown",
   "metadata": {},
   "source": [
    "# Constructing the prior\n",
    "\n",
    "The prior distribution is the historical distribution of our stock's returns, volatility and covariance"
   ]
  },
  {
   "cell_type": "code",
   "execution_count": 8,
   "metadata": {},
   "outputs": [
    {
     "data": {
      "text/plain": [
       "1.5578327076007414"
      ]
     },
     "execution_count": 8,
     "metadata": {},
     "output_type": "execute_result"
    }
   ],
   "source": [
    "from pypfopt import black_litterman, risk_models\n",
    "from pypfopt import BlackLittermanModel, plotting\n",
    "\n",
    "S = risk_models.CovarianceShrinkage(prices).ledoit_wolf()\n",
    "delta = black_litterman.market_implied_risk_aversion(market_prices)\n",
    "delta"
   ]
  },
  {
   "cell_type": "code",
   "execution_count": 9,
   "metadata": {},
   "outputs": [
    {
     "data": {
      "image/png": "[encoded data removed]",
      "text/plain": [
       "<Figure size 432x288 with 2 Axes>"
      ]
     },
     "metadata": {
      "needs_background": "light"
     },
     "output_type": "display_data"
    }
   ],
   "source": [
    "# Variance-Covariance matrix\n",
    "plotting.plot_covariance(S);"
   ]
  },
  {
   "cell_type": "code",
   "execution_count": 10,
   "metadata": {},
   "outputs": [
    {
     "data": {
      "text/plain": [
       "AAPL    0.177776\n",
       "AMZN    0.229543\n",
       "APA     0.068890\n",
       "AXP     0.095936\n",
       "KO      0.045160\n",
       "NFLX    0.114041\n",
       "SU      0.070286\n",
       "TSLA    0.062449\n",
       "UAA     0.074180\n",
       "XRX     0.090530\n",
       "dtype: float64"
      ]
     },
     "execution_count": 10,
     "metadata": {},
     "output_type": "execute_result"
    }
   ],
   "source": [
    "market_prior = black_litterman.market_implied_prior_returns(mkt_caps, delta, S)\n",
    "market_prior"
   ]
  },
  {
   "cell_type": "code",
   "execution_count": 11,
   "metadata": {},
   "outputs": [
    {
     "data": {
      "image/png": "[encoded data removed]",
      "text/plain": [
       "<Figure size 720x360 with 1 Axes>"
      ]
     },
     "metadata": {
      "needs_background": "light"
     },
     "output_type": "display_data"
    }
   ],
   "source": [
    "market_prior.plot.barh(figsize=(10,5));"
   ]
  },
  {
   "cell_type": "markdown",
   "metadata": {},
   "source": [
    "# Personal investment views\n",
    "Black Litterman model gives us the option to include our own personal investment beliefs of the range in which a stocks returns may vary, as well as our confidence intervals in these beliefs"
   ]
  },
  {
   "cell_type": "code",
   "execution_count": 12,
   "metadata": {},
   "outputs": [
    {
     "name": "stdout",
     "output_type": "stream",
     "text": [
      "[0.015625, 0.022500000000000006, 0.015625, 0.0056250000000000015, 0.005624999999999997, 0.015625, 0.010000000000000002, 0.00039999999999999986, 0.0025000000000000005, 0.04000000000000001]\n"
     ]
    }
   ],
   "source": [
    "# You don't have to provide views on all the assets\n",
    "viewdict = {\n",
    "    \"AAPL\": 0.10, # I think Apple will go up 10%\n",
    "    \"APA\": 0.25,\n",
    "    \"AXP\": 0.05,\n",
    "    \"XRX\": 0.05,\n",
    "    \"AMZN\": 0.30, \n",
    "    \"NFLX\": 0.30,\n",
    "    \"UAA\": 0.15,\n",
    "    \"SU\": 0.10,\n",
    "    \"KO\": 0.10,\n",
    "    \"TSLA\": 0.30\n",
    "}\n",
    "\n",
    "intervals = [\n",
    "    (0, 0.25),\n",
    "    (0.1, 0.4),\n",
    "    (-0.05, 0.20),\n",
    "    (-0.05, 0.10),\n",
    "    (0.20, 0.35),\n",
    "    (0.20, 0.45),\n",
    "    (0.00, 0.2),\n",
    "    (0.08, 0.12),\n",
    "    (0.1, 0.2),\n",
    "    (0.10, 0.50)\n",
    "]\n",
    "\n",
    "\n",
    "variances = []\n",
    "for lb, ub in intervals:\n",
    "    sigma = (ub - lb)/2\n",
    "    variances.append(sigma ** 2)\n",
    "\n",
    "print(variances)\n",
    "omega = np.diag(variances)\n",
    "\n",
    "bl = BlackLittermanModel(S, pi=\"market\", market_caps=mkt_caps, risk_averison=\"delta\", absolute_views=viewdict, omega=omega)"
   ]
  },
  {
   "cell_type": "code",
   "execution_count": 13,
   "metadata": {},
   "outputs": [
    {
     "data": {
      "image/png": "[encoded data removed]",
      "text/plain": [
       "<Figure size 504x504 with 1 Axes>"
      ]
     },
     "metadata": {
      "needs_background": "light"
     },
     "output_type": "display_data"
    }
   ],
   "source": [
    "# Shows investor's forward view\n",
    "fig, ax = plt.subplots(figsize=(7,7))\n",
    "im = ax.imshow(bl.omega)\n",
    "\n",
    "ax.set_xticks(np.arange(len(bl.tickers)))\n",
    "ax.set_yticks(np.arange(len(bl.tickers)))\n",
    "\n",
    "ax.set_xticklabels(bl.tickers)\n",
    "ax.set_yticklabels(bl.tickers)\n",
    "plt.show()"
   ]
  },
  {
   "cell_type": "markdown",
   "metadata": {},
   "source": [
    "# Estimate posterior returns\n",
    "In layman terms:\n",
    "\n",
    "Expected excess returns = Investor view * Past Market view\n",
    "\n",
    "$$E(R-R_{rf}) = [(\\tau*S)^{-1} + P^\\text{T}\\Omega^{-1}P]^{-1}]*[(\\tau*S)^{-1}\\Pi + P^\\text{T}\\Omega^{-1}Q]$$\n",
    "\n",
    "$E(R-R_{rf}) = \\text{Expected excess return}$\n",
    "\n",
    "$P = \\text{Matrix identifying which stocks you have views about}$\n",
    "\n",
    "$Q = \\text{Matrix of investor forward view of excess returns}$\n",
    "\n",
    "$S = \\text{Variance-Covariance Matrix}$\n",
    "\n",
    "$\\tau = \\text{Scalar assume = 1}$\n",
    "\n",
    "$\\Omega = \\text{Uncertainty surrounding your future views}$\n",
    "\n",
    "$\\Pi = \\text{Implied excess returns derived from prior}$\n",
    "\n"
   ]
  },
  {
   "cell_type": "code",
   "execution_count": 15,
   "metadata": {},
   "outputs": [
    {
     "data": {
      "text/plain": [
       "AAPL    0.135895\n",
       "AMZN    0.236905\n",
       "APA     0.113636\n",
       "AXP     0.092531\n",
       "KO      0.060879\n",
       "NFLX    0.199307\n",
       "SU      0.099432\n",
       "TSLA    0.114124\n",
       "UAA     0.115342\n",
       "XRX     0.075382\n",
       "dtype: float64"
      ]
     },
     "execution_count": 15,
     "metadata": {},
     "output_type": "execute_result"
    }
   ],
   "source": [
    "ret_bl = bl.bl_returns()\n",
    "ret_bl"
   ]
  },
  {
   "cell_type": "code",
   "execution_count": 16,
   "metadata": {},
   "outputs": [
    {
     "data": {
      "text/html": [
       "<div>\n",
       "<style scoped>\n",
       "    .dataframe tbody tr th:only-of-type {\n",
       "        vertical-align: middle;\n",
       "    }\n",
       "\n",
       "    .dataframe tbody tr th {\n",
       "        vertical-align: top;\n",
       "    }\n",
       "\n",
       "    .dataframe thead th {\n",
       "        text-align: right;\n",
       "    }\n",
       "</style>\n",
       "<table border=\"1\" class=\"dataframe\">\n",
       "  <thead>\n",
       "    <tr style=\"text-align: right;\">\n",
       "      <th></th>\n",
       "      <th>Prior</th>\n",
       "      <th>Posterior</th>\n",
       "      <th>Views</th>\n",
       "    </tr>\n",
       "  </thead>\n",
       "  <tbody>\n",
       "    <tr>\n",
       "      <td>AAPL</td>\n",
       "      <td>0.177776</td>\n",
       "      <td>0.135895</td>\n",
       "      <td>0.10</td>\n",
       "    </tr>\n",
       "    <tr>\n",
       "      <td>AMZN</td>\n",
       "      <td>0.229543</td>\n",
       "      <td>0.236905</td>\n",
       "      <td>0.30</td>\n",
       "    </tr>\n",
       "    <tr>\n",
       "      <td>APA</td>\n",
       "      <td>0.068890</td>\n",
       "      <td>0.113636</td>\n",
       "      <td>0.25</td>\n",
       "    </tr>\n",
       "    <tr>\n",
       "      <td>AXP</td>\n",
       "      <td>0.095936</td>\n",
       "      <td>0.092531</td>\n",
       "      <td>0.05</td>\n",
       "    </tr>\n",
       "    <tr>\n",
       "      <td>KO</td>\n",
       "      <td>0.045160</td>\n",
       "      <td>0.060879</td>\n",
       "      <td>0.10</td>\n",
       "    </tr>\n",
       "    <tr>\n",
       "      <td>NFLX</td>\n",
       "      <td>0.114041</td>\n",
       "      <td>0.199307</td>\n",
       "      <td>0.30</td>\n",
       "    </tr>\n",
       "    <tr>\n",
       "      <td>SU</td>\n",
       "      <td>0.070286</td>\n",
       "      <td>0.099432</td>\n",
       "      <td>0.10</td>\n",
       "    </tr>\n",
       "    <tr>\n",
       "      <td>TSLA</td>\n",
       "      <td>0.062449</td>\n",
       "      <td>0.114124</td>\n",
       "      <td>0.30</td>\n",
       "    </tr>\n",
       "    <tr>\n",
       "      <td>UAA</td>\n",
       "      <td>0.074180</td>\n",
       "      <td>0.115342</td>\n",
       "      <td>0.15</td>\n",
       "    </tr>\n",
       "    <tr>\n",
       "      <td>XRX</td>\n",
       "      <td>0.090530</td>\n",
       "      <td>0.075382</td>\n",
       "      <td>0.05</td>\n",
       "    </tr>\n",
       "  </tbody>\n",
       "</table>\n",
       "</div>"
      ],
      "text/plain": [
       "         Prior  Posterior  Views\n",
       "AAPL  0.177776   0.135895   0.10\n",
       "AMZN  0.229543   0.236905   0.30\n",
       "APA   0.068890   0.113636   0.25\n",
       "AXP   0.095936   0.092531   0.05\n",
       "KO    0.045160   0.060879   0.10\n",
       "NFLX  0.114041   0.199307   0.30\n",
       "SU    0.070286   0.099432   0.10\n",
       "TSLA  0.062449   0.114124   0.30\n",
       "UAA   0.074180   0.115342   0.15\n",
       "XRX   0.090530   0.075382   0.05"
      ]
     },
     "execution_count": 16,
     "metadata": {},
     "output_type": "execute_result"
    }
   ],
   "source": [
    "rets_df = pd.DataFrame([market_prior, ret_bl, pd.Series(viewdict)], \n",
    "             index=[\"Prior\", \"Posterior\", \"Views\"]).T\n",
    "rets_df"
   ]
  },
  {
   "cell_type": "code",
   "execution_count": 17,
   "metadata": {},
   "outputs": [
    {
     "data": {
      "image/png": "[encoded data removed]",
      "text/plain": [
       "<Figure size 864x576 with 1 Axes>"
      ]
     },
     "metadata": {
      "needs_background": "light"
     },
     "output_type": "display_data"
    }
   ],
   "source": [
    "rets_df.plot.bar(figsize=(12,8));"
   ]
  },
  {
   "cell_type": "code",
   "execution_count": 18,
   "metadata": {},
   "outputs": [
    {
     "data": {
      "image/png": "[encoded data removed]",
      "text/plain": [
       "<Figure size 432x288 with 2 Axes>"
      ]
     },
     "metadata": {
      "needs_background": "light"
     },
     "output_type": "display_data"
    }
   ],
   "source": [
    "# Estimate of covariance matrix, factoring investor views\n",
    "S_bl = bl.bl_cov()\n",
    "plotting.plot_covariance(S_bl);"
   ]
  },
  {
   "cell_type": "code",
   "execution_count": 19,
   "metadata": {},
   "outputs": [
    {
     "name": "stderr",
     "output_type": "stream",
     "text": [
      "C:\\Users\\Marcus\\Anaconda3\\lib\\site-packages\\pypfopt\\efficient_frontier.py:182: UserWarning: max_sharpe transforms the optimisation problem so additional objectives may not work as expected.\n",
      "  \"max_sharpe transforms the optimisation problem so additional objectives may not work as expected.\"\n"
     ]
    },
    {
     "data": {
      "text/plain": [
       "OrderedDict([('AAPL', 0.10735),\n",
       "             ('AMZN', 0.23844),\n",
       "             ('APA', 0.09074),\n",
       "             ('AXP', 0.025),\n",
       "             ('KO', 0.06576),\n",
       "             ('NFLX', 0.16563),\n",
       "             ('SU', 0.04614),\n",
       "             ('TSLA', 0.15663),\n",
       "             ('UAA', 0.07931),\n",
       "             ('XRX', 0.025)])"
      ]
     },
     "execution_count": 19,
     "metadata": {},
     "output_type": "execute_result"
    }
   ],
   "source": [
    "from pypfopt import EfficientFrontier, objective_functions\n",
    "ef = EfficientFrontier(ret_bl, S_bl, weight_bounds=(0,0.25))\n",
    "ef.add_objective(objective_functions.L2_reg, gamma=0.1)\n",
    "ef.add_constraint(lambda x : x >= 0.025)\n",
    "ef.max_sharpe()\n",
    "weights = ef.clean_weights()\n",
    "weights"
   ]
  },
  {
   "cell_type": "code",
   "execution_count": 20,
   "metadata": {},
   "outputs": [
    {
     "data": {
      "image/png": "[encoded data removed]",
      "text/plain": [
       "<Figure size 720x720 with 1 Axes>"
      ]
     },
     "metadata": {},
     "output_type": "display_data"
    }
   ],
   "source": [
    "pd.Series(weights).plot.pie(figsize=(10,10));"
   ]
  },
  {
   "cell_type": "code",
   "execution_count": 22,
   "metadata": {},
   "outputs": [
    {
     "name": "stdout",
     "output_type": "stream",
     "text": [
      "Leftover: $3.76\n"
     ]
    },
    {
     "data": {
      "text/plain": [
       "{'AAPL': 146.0,\n",
       " 'AMZN': 13.0,\n",
       " 'APA': 359.0,\n",
       " 'AXP': 21.0,\n",
       " 'KO': 122.0,\n",
       " 'NFLX': 51.0,\n",
       " 'SU': 145.0,\n",
       " 'TSLA': 186.0,\n",
       " 'UAA': 367.0,\n",
       " 'XRX': 71.0}"
      ]
     },
     "execution_count": 22,
     "metadata": {},
     "output_type": "execute_result"
    }
   ],
   "source": [
    "from pypfopt import DiscreteAllocation\n",
    "\n",
    "da = DiscreteAllocation(weights, prices.iloc[-1], total_portfolio_value=100000)\n",
    "alloc, leftover = da.lp_portfolio()\n",
    "print(f\"Leftover: ${leftover:.2f}\")\n",
    "alloc"
   ]
  },
  {
   "cell_type": "code",
   "execution_count": 23,
   "metadata": {},
   "outputs": [
    {
     "name": "stdout",
     "output_type": "stream",
     "text": [
      "Black-Litterman Portfolio Analysis:\n",
      "\tExpected annual return: 0.154209\n",
      "\tAnnual Volatility: 0.249908\n",
      "\tSharpe ratio: 0.537035\n"
     ]
    }
   ],
   "source": [
    "print(\"Black-Litterman Portfolio Analysis:\")\n",
    "print(\"\\tExpected annual return: %f\\n\\tAnnual Volatility: %f\\n\\tSharpe ratio: %f\" % (ef.portfolio_performance()))"
   ]
  },
  {
   "cell_type": "markdown",
   "metadata": {},
   "source": [
    "# Allow shorting\n",
    "Allow the portfolio to allocate negative weights by shorting stocks"
   ]
  },
  {
   "cell_type": "code",
   "execution_count": 24,
   "metadata": {},
   "outputs": [
    {
     "data": {
      "text/plain": [
       "OrderedDict([('AAPL', 0.1187),\n",
       "             ('AMZN', 0.2485),\n",
       "             ('APA', 0.10001),\n",
       "             ('AXP', 0.00745),\n",
       "             ('KO', 0.07565),\n",
       "             ('NFLX', 0.17236),\n",
       "             ('SU', 0.05348),\n",
       "             ('TSLA', 0.16283),\n",
       "             ('UAA', 0.08831),\n",
       "             ('XRX', -0.02729)])"
      ]
     },
     "execution_count": 24,
     "metadata": {},
     "output_type": "execute_result"
    }
   ],
   "source": [
    "ef_with_short = EfficientFrontier(ret_bl, S_bl, weight_bounds=(-1,1))\n",
    "ef_with_short.add_objective(objective_functions.L2_reg, gamma=0.1)\n",
    "ef_with_short.max_sharpe()\n",
    "weights_with_short = ef_with_short.clean_weights()\n",
    "weights_with_short"
   ]
  },
  {
   "cell_type": "code",
   "execution_count": 25,
   "metadata": {},
   "outputs": [
    {
     "name": "stdout",
     "output_type": "stream",
     "text": [
      "Black-Litterman with shorts Portfolio Analysis:\n",
      "\tExpected annual return: 0.158042\n",
      "\tAnnual Volatility: 0.253622\n",
      "\tSharpe ratio: 0.544284\n"
     ]
    }
   ],
   "source": [
    "print(\"Black-Litterman with shorts Portfolio Analysis:\")\n",
    "print(\"\\tExpected annual return: %f\\n\\tAnnual Volatility: %f\\n\\tSharpe ratio: %f\" % (ef_with_short.portfolio_performance()))"
   ]
  },
  {
   "cell_type": "code",
   "execution_count": null,
   "metadata": {},
   "outputs": [],
   "source": []
  }
 ],
 "metadata": {
  "kernelspec": {
   "display_name": "Python 3",
   "language": "python",
   "name": "python3"
  },
  "language_info": {
   "codemirror_mode": {
    "name": "ipython",
    "version": 3
   },
   "file_extension": ".py",
   "mimetype": "text/x-python",
   "name": "python",
   "nbconvert_exporter": "python",
   "pygments_lexer": "ipython3",
   "version": "3.7.4"
  }
 },
 "nbformat": 4,
 "nbformat_minor": 4
}
