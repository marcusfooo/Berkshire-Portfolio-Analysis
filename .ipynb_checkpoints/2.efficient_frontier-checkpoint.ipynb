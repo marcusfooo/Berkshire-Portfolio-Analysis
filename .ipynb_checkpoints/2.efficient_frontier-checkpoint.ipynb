{
 "cells": [
  {
   "cell_type": "code",
   "execution_count": 1,
   "metadata": {},
   "outputs": [],
   "source": [
    "#!pip install pandas_datareader -q\n",
    "#!pip install PyPortfolioOpt -q"
   ]
  },
  {
   "cell_type": "code",
   "execution_count": 2,
   "metadata": {},
   "outputs": [],
   "source": [
    "import numpy as np\n",
    "import pandas as pd\n",
    "import pandas_datareader as web\n",
    "from datetime import datetime\n",
    "import matplotlib.pyplot as plt\n",
    "import seaborn as sns\n",
    "import pypfopt\n",
    "%load_ext autoreload\n",
    "%autoreload 2\n"
   ]
  },
  {
   "cell_type": "code",
   "execution_count": 3,
   "metadata": {},
   "outputs": [
    {
     "data": {
      "text/html": [
       "<div>\n",
       "<style scoped>\n",
       "    .dataframe tbody tr th:only-of-type {\n",
       "        vertical-align: middle;\n",
       "    }\n",
       "\n",
       "    .dataframe tbody tr th {\n",
       "        vertical-align: top;\n",
       "    }\n",
       "\n",
       "    .dataframe thead th {\n",
       "        text-align: right;\n",
       "    }\n",
       "</style>\n",
       "<table border=\"1\" class=\"dataframe\">\n",
       "  <thead>\n",
       "    <tr style=\"text-align: right;\">\n",
       "      <th></th>\n",
       "      <th>Date</th>\n",
       "      <th>Close</th>\n",
       "      <th>Symbol</th>\n",
       "    </tr>\n",
       "  </thead>\n",
       "  <tbody>\n",
       "    <tr>\n",
       "      <td>0</td>\n",
       "      <td>2009-12-31</td>\n",
       "      <td>30.104286</td>\n",
       "      <td>AAPL</td>\n",
       "    </tr>\n",
       "    <tr>\n",
       "      <td>1</td>\n",
       "      <td>2010-01-04</td>\n",
       "      <td>30.572857</td>\n",
       "      <td>AAPL</td>\n",
       "    </tr>\n",
       "    <tr>\n",
       "      <td>2</td>\n",
       "      <td>2010-01-05</td>\n",
       "      <td>30.625713</td>\n",
       "      <td>AAPL</td>\n",
       "    </tr>\n",
       "    <tr>\n",
       "      <td>3</td>\n",
       "      <td>2010-01-06</td>\n",
       "      <td>30.138571</td>\n",
       "      <td>AAPL</td>\n",
       "    </tr>\n",
       "    <tr>\n",
       "      <td>4</td>\n",
       "      <td>2010-01-07</td>\n",
       "      <td>30.082857</td>\n",
       "      <td>AAPL</td>\n",
       "    </tr>\n",
       "  </tbody>\n",
       "</table>\n",
       "</div>"
      ],
      "text/plain": [
       "        Date      Close Symbol\n",
       "0 2009-12-31  30.104286   AAPL\n",
       "1 2010-01-04  30.572857   AAPL\n",
       "2 2010-01-05  30.625713   AAPL\n",
       "3 2010-01-06  30.138571   AAPL\n",
       "4 2010-01-07  30.082857   AAPL"
      ]
     },
     "execution_count": 3,
     "metadata": {},
     "output_type": "execute_result"
    }
   ],
   "source": [
    "# https://www.dataroma.com/m/holdings.php?m=BRK BRKA portfolio tracker\n",
    "start = datetime(2010, 1, 1)\n",
    "symbols_list = ['AAPL', 'AXP', 'UAA', 'APA', 'SU', 'NFLX', 'XRX','AMZN', 'KO', 'TSLA']\n",
    "\n",
    "symbols = []\n",
    "for ticker in symbols_list:\n",
    "    r = web.DataReader(ticker, 'yahoo', start)\n",
    "    r[\"Symbol\"] = ticker\n",
    "    symbols.append(r)\n",
    "    \n",
    "eq_df = pd.concat(symbols).reset_index()\n",
    "eq_df = eq_df[['Date', 'Close', 'Symbol']]\n",
    "eq_df.head()"
   ]
  },
  {
   "cell_type": "code",
   "execution_count": 4,
   "metadata": {},
   "outputs": [
    {
     "data": {
      "text/html": [
       "<div>\n",
       "<style scoped>\n",
       "    .dataframe tbody tr th:only-of-type {\n",
       "        vertical-align: middle;\n",
       "    }\n",
       "\n",
       "    .dataframe tbody tr th {\n",
       "        vertical-align: top;\n",
       "    }\n",
       "\n",
       "    .dataframe thead th {\n",
       "        text-align: right;\n",
       "    }\n",
       "</style>\n",
       "<table border=\"1\" class=\"dataframe\">\n",
       "  <thead>\n",
       "    <tr style=\"text-align: right;\">\n",
       "      <th>Symbol</th>\n",
       "      <th>AAPL</th>\n",
       "      <th>AMZN</th>\n",
       "      <th>APA</th>\n",
       "      <th>AXP</th>\n",
       "      <th>KO</th>\n",
       "      <th>NFLX</th>\n",
       "      <th>SU</th>\n",
       "      <th>TSLA</th>\n",
       "      <th>UAA</th>\n",
       "      <th>XRX</th>\n",
       "    </tr>\n",
       "    <tr>\n",
       "      <th>Date</th>\n",
       "      <th></th>\n",
       "      <th></th>\n",
       "      <th></th>\n",
       "      <th></th>\n",
       "      <th></th>\n",
       "      <th></th>\n",
       "      <th></th>\n",
       "      <th></th>\n",
       "      <th></th>\n",
       "      <th></th>\n",
       "    </tr>\n",
       "  </thead>\n",
       "  <tbody>\n",
       "    <tr>\n",
       "      <td>2009-12-31</td>\n",
       "      <td>30.104286</td>\n",
       "      <td>134.520004</td>\n",
       "      <td>103.169998</td>\n",
       "      <td>40.520000</td>\n",
       "      <td>28.500000</td>\n",
       "      <td>7.870000</td>\n",
       "      <td>35.310001</td>\n",
       "      <td>NaN</td>\n",
       "      <td>3.40875</td>\n",
       "      <td>22.292490</td>\n",
       "    </tr>\n",
       "    <tr>\n",
       "      <td>2010-01-04</td>\n",
       "      <td>30.572857</td>\n",
       "      <td>133.899994</td>\n",
       "      <td>105.870003</td>\n",
       "      <td>40.919998</td>\n",
       "      <td>28.520000</td>\n",
       "      <td>7.640000</td>\n",
       "      <td>36.759998</td>\n",
       "      <td>NaN</td>\n",
       "      <td>3.51000</td>\n",
       "      <td>22.740448</td>\n",
       "    </tr>\n",
       "    <tr>\n",
       "      <td>2010-01-05</td>\n",
       "      <td>30.625713</td>\n",
       "      <td>134.690002</td>\n",
       "      <td>107.120003</td>\n",
       "      <td>40.830002</td>\n",
       "      <td>28.174999</td>\n",
       "      <td>7.358572</td>\n",
       "      <td>37.270000</td>\n",
       "      <td>NaN</td>\n",
       "      <td>3.61500</td>\n",
       "      <td>22.766798</td>\n",
       "    </tr>\n",
       "    <tr>\n",
       "      <td>2010-01-06</td>\n",
       "      <td>30.138571</td>\n",
       "      <td>132.250000</td>\n",
       "      <td>108.800003</td>\n",
       "      <td>41.490002</td>\n",
       "      <td>28.165001</td>\n",
       "      <td>7.617143</td>\n",
       "      <td>38.009998</td>\n",
       "      <td>NaN</td>\n",
       "      <td>3.69500</td>\n",
       "      <td>22.555994</td>\n",
       "    </tr>\n",
       "    <tr>\n",
       "      <td>2010-01-07</td>\n",
       "      <td>30.082857</td>\n",
       "      <td>130.000000</td>\n",
       "      <td>107.150002</td>\n",
       "      <td>41.980000</td>\n",
       "      <td>28.094999</td>\n",
       "      <td>7.485714</td>\n",
       "      <td>37.509998</td>\n",
       "      <td>NaN</td>\n",
       "      <td>3.65125</td>\n",
       "      <td>22.661396</td>\n",
       "    </tr>\n",
       "  </tbody>\n",
       "</table>\n",
       "</div>"
      ],
      "text/plain": [
       "Symbol           AAPL        AMZN         APA        AXP         KO      NFLX  \\\n",
       "Date                                                                            \n",
       "2009-12-31  30.104286  134.520004  103.169998  40.520000  28.500000  7.870000   \n",
       "2010-01-04  30.572857  133.899994  105.870003  40.919998  28.520000  7.640000   \n",
       "2010-01-05  30.625713  134.690002  107.120003  40.830002  28.174999  7.358572   \n",
       "2010-01-06  30.138571  132.250000  108.800003  41.490002  28.165001  7.617143   \n",
       "2010-01-07  30.082857  130.000000  107.150002  41.980000  28.094999  7.485714   \n",
       "\n",
       "Symbol             SU  TSLA      UAA        XRX  \n",
       "Date                                             \n",
       "2009-12-31  35.310001   NaN  3.40875  22.292490  \n",
       "2010-01-04  36.759998   NaN  3.51000  22.740448  \n",
       "2010-01-05  37.270000   NaN  3.61500  22.766798  \n",
       "2010-01-06  38.009998   NaN  3.69500  22.555994  \n",
       "2010-01-07  37.509998   NaN  3.65125  22.661396  "
      ]
     },
     "execution_count": 4,
     "metadata": {},
     "output_type": "execute_result"
    }
   ],
   "source": [
    "eq_pivot = eq_df.pivot('Date', 'Symbol', 'Close')\n",
    "eq_pivot.head()"
   ]
  },
  {
   "cell_type": "code",
   "execution_count": 5,
   "metadata": {},
   "outputs": [
    {
     "data": {
      "text/html": [
       "<div>\n",
       "<style scoped>\n",
       "    .dataframe tbody tr th:only-of-type {\n",
       "        vertical-align: middle;\n",
       "    }\n",
       "\n",
       "    .dataframe tbody tr th {\n",
       "        vertical-align: top;\n",
       "    }\n",
       "\n",
       "    .dataframe thead th {\n",
       "        text-align: right;\n",
       "    }\n",
       "</style>\n",
       "<table border=\"1\" class=\"dataframe\">\n",
       "  <thead>\n",
       "    <tr style=\"text-align: right;\">\n",
       "      <th>Symbol</th>\n",
       "      <th>AAPL</th>\n",
       "      <th>AMZN</th>\n",
       "      <th>APA</th>\n",
       "      <th>AXP</th>\n",
       "      <th>KO</th>\n",
       "      <th>NFLX</th>\n",
       "      <th>SU</th>\n",
       "      <th>TSLA</th>\n",
       "      <th>UAA</th>\n",
       "      <th>XRX</th>\n",
       "    </tr>\n",
       "  </thead>\n",
       "  <tbody>\n",
       "    <tr>\n",
       "      <td>AAPL</td>\n",
       "      <td>1.000000</td>\n",
       "      <td>0.947519</td>\n",
       "      <td>-0.840498</td>\n",
       "      <td>0.785570</td>\n",
       "      <td>0.796298</td>\n",
       "      <td>0.920225</td>\n",
       "      <td>-0.363101</td>\n",
       "      <td>0.872712</td>\n",
       "      <td>0.103654</td>\n",
       "      <td>0.142159</td>\n",
       "    </tr>\n",
       "    <tr>\n",
       "      <td>AMZN</td>\n",
       "      <td>0.947519</td>\n",
       "      <td>1.000000</td>\n",
       "      <td>-0.845297</td>\n",
       "      <td>0.773477</td>\n",
       "      <td>0.760282</td>\n",
       "      <td>0.985452</td>\n",
       "      <td>-0.302812</td>\n",
       "      <td>0.796763</td>\n",
       "      <td>0.028495</td>\n",
       "      <td>0.096259</td>\n",
       "    </tr>\n",
       "    <tr>\n",
       "      <td>APA</td>\n",
       "      <td>-0.840498</td>\n",
       "      <td>-0.845297</td>\n",
       "      <td>1.000000</td>\n",
       "      <td>-0.743153</td>\n",
       "      <td>-0.826459</td>\n",
       "      <td>-0.832291</td>\n",
       "      <td>0.538943</td>\n",
       "      <td>-0.687204</td>\n",
       "      <td>-0.352627</td>\n",
       "      <td>-0.135126</td>\n",
       "    </tr>\n",
       "    <tr>\n",
       "      <td>AXP</td>\n",
       "      <td>0.785570</td>\n",
       "      <td>0.773477</td>\n",
       "      <td>-0.743153</td>\n",
       "      <td>1.000000</td>\n",
       "      <td>0.881032</td>\n",
       "      <td>0.787938</td>\n",
       "      <td>-0.022042</td>\n",
       "      <td>0.573161</td>\n",
       "      <td>0.300290</td>\n",
       "      <td>0.515392</td>\n",
       "    </tr>\n",
       "    <tr>\n",
       "      <td>KO</td>\n",
       "      <td>0.796298</td>\n",
       "      <td>0.760282</td>\n",
       "      <td>-0.826459</td>\n",
       "      <td>0.881032</td>\n",
       "      <td>1.000000</td>\n",
       "      <td>0.740307</td>\n",
       "      <td>-0.229406</td>\n",
       "      <td>0.598290</td>\n",
       "      <td>0.415589</td>\n",
       "      <td>0.373675</td>\n",
       "    </tr>\n",
       "    <tr>\n",
       "      <td>NFLX</td>\n",
       "      <td>0.920225</td>\n",
       "      <td>0.985452</td>\n",
       "      <td>-0.832291</td>\n",
       "      <td>0.787938</td>\n",
       "      <td>0.740307</td>\n",
       "      <td>1.000000</td>\n",
       "      <td>-0.230874</td>\n",
       "      <td>0.758228</td>\n",
       "      <td>0.049281</td>\n",
       "      <td>0.157993</td>\n",
       "    </tr>\n",
       "    <tr>\n",
       "      <td>SU</td>\n",
       "      <td>-0.363101</td>\n",
       "      <td>-0.302812</td>\n",
       "      <td>0.538943</td>\n",
       "      <td>-0.022042</td>\n",
       "      <td>-0.229406</td>\n",
       "      <td>-0.230874</td>\n",
       "      <td>1.000000</td>\n",
       "      <td>-0.464320</td>\n",
       "      <td>-0.173921</td>\n",
       "      <td>0.387618</td>\n",
       "    </tr>\n",
       "    <tr>\n",
       "      <td>TSLA</td>\n",
       "      <td>0.872712</td>\n",
       "      <td>0.796763</td>\n",
       "      <td>-0.687204</td>\n",
       "      <td>0.573161</td>\n",
       "      <td>0.598290</td>\n",
       "      <td>0.758228</td>\n",
       "      <td>-0.464320</td>\n",
       "      <td>1.000000</td>\n",
       "      <td>0.081601</td>\n",
       "      <td>0.026818</td>\n",
       "    </tr>\n",
       "    <tr>\n",
       "      <td>UAA</td>\n",
       "      <td>0.103654</td>\n",
       "      <td>0.028495</td>\n",
       "      <td>-0.352627</td>\n",
       "      <td>0.300290</td>\n",
       "      <td>0.415589</td>\n",
       "      <td>0.049281</td>\n",
       "      <td>-0.173921</td>\n",
       "      <td>0.081601</td>\n",
       "      <td>1.000000</td>\n",
       "      <td>0.391247</td>\n",
       "    </tr>\n",
       "    <tr>\n",
       "      <td>XRX</td>\n",
       "      <td>0.142159</td>\n",
       "      <td>0.096259</td>\n",
       "      <td>-0.135126</td>\n",
       "      <td>0.515392</td>\n",
       "      <td>0.373675</td>\n",
       "      <td>0.157993</td>\n",
       "      <td>0.387618</td>\n",
       "      <td>0.026818</td>\n",
       "      <td>0.391247</td>\n",
       "      <td>1.000000</td>\n",
       "    </tr>\n",
       "  </tbody>\n",
       "</table>\n",
       "</div>"
      ],
      "text/plain": [
       "Symbol      AAPL      AMZN       APA       AXP        KO      NFLX        SU  \\\n",
       "AAPL    1.000000  0.947519 -0.840498  0.785570  0.796298  0.920225 -0.363101   \n",
       "AMZN    0.947519  1.000000 -0.845297  0.773477  0.760282  0.985452 -0.302812   \n",
       "APA    -0.840498 -0.845297  1.000000 -0.743153 -0.826459 -0.832291  0.538943   \n",
       "AXP     0.785570  0.773477 -0.743153  1.000000  0.881032  0.787938 -0.022042   \n",
       "KO      0.796298  0.760282 -0.826459  0.881032  1.000000  0.740307 -0.229406   \n",
       "NFLX    0.920225  0.985452 -0.832291  0.787938  0.740307  1.000000 -0.230874   \n",
       "SU     -0.363101 -0.302812  0.538943 -0.022042 -0.229406 -0.230874  1.000000   \n",
       "TSLA    0.872712  0.796763 -0.687204  0.573161  0.598290  0.758228 -0.464320   \n",
       "UAA     0.103654  0.028495 -0.352627  0.300290  0.415589  0.049281 -0.173921   \n",
       "XRX     0.142159  0.096259 -0.135126  0.515392  0.373675  0.157993  0.387618   \n",
       "\n",
       "Symbol      TSLA       UAA       XRX  \n",
       "AAPL    0.872712  0.103654  0.142159  \n",
       "AMZN    0.796763  0.028495  0.096259  \n",
       "APA    -0.687204 -0.352627 -0.135126  \n",
       "AXP     0.573161  0.300290  0.515392  \n",
       "KO      0.598290  0.415589  0.373675  \n",
       "NFLX    0.758228  0.049281  0.157993  \n",
       "SU     -0.464320 -0.173921  0.387618  \n",
       "TSLA    1.000000  0.081601  0.026818  \n",
       "UAA     0.081601  1.000000  0.391247  \n",
       "XRX     0.026818  0.391247  1.000000  "
      ]
     },
     "execution_count": 5,
     "metadata": {},
     "output_type": "execute_result"
    }
   ],
   "source": [
    "corr_matrix = eq_pivot.corr(method='pearson')\n",
    "corr_matrix.head().reset_index()\n",
    "del corr_matrix.index.name\n",
    "corr_matrix"
   ]
  },
  {
   "cell_type": "markdown",
   "metadata": {},
   "source": [
    "# Correlation heatmap"
   ]
  },
  {
   "cell_type": "code",
   "execution_count": 6,
   "metadata": {},
   "outputs": [
    {
     "data": {
      "image/png": "[encoded data removed]",
      "text/plain": [
       "<Figure size 432x288 with 2 Axes>"
      ]
     },
     "metadata": {
      "needs_background": "light"
     },
     "output_type": "display_data"
    }
   ],
   "source": [
    "mask = np.zeros_like(corr_matrix)\n",
    "mask[np.triu_indices_from(mask)] = True\n",
    "#generate plot\n",
    "sns.heatmap(corr_matrix, cmap='RdYlGn', vmax=1.0, vmin=-1.0 , mask = mask, linewidths=2.5)\n",
    "plt.yticks(rotation=0) \n",
    "plt.xticks(rotation=90) \n",
    "plt.show()"
   ]
  },
  {
   "cell_type": "markdown",
   "metadata": {},
   "source": [
    "# Wealth Plot"
   ]
  },
  {
   "cell_type": "code",
   "execution_count": 7,
   "metadata": {},
   "outputs": [
    {
     "name": "stderr",
     "output_type": "stream",
     "text": [
      "C:\\Users\\Marcus\\Anaconda3\\lib\\site-packages\\ipykernel_launcher.py:7: SettingWithCopyWarning: \n",
      "A value is trying to be set on a copy of a slice from a DataFrame.\n",
      "Try using .loc[row_indexer,col_indexer] = value instead\n",
      "\n",
      "See the caveats in the documentation: http://pandas.pydata.org/pandas-docs/stable/user_guide/indexing.html#returning-a-view-versus-a-copy\n",
      "  import sys\n"
     ]
    }
   ],
   "source": [
    "spy_data = web.DataReader('SPY', 'yahoo', '2010-01-02') # 1) Load web data\n",
    "brka_data = pd.read_csv(\"data/BRK-A.csv\", parse_dates=True, index_col=0) # 2) Load csv\n",
    "brka_data.index = pd.to_datetime(brka_data.index, format=\"%Y-%m-%d\")\n",
    "brka_recent = brka_data[\"2010\":]\n",
    "\n",
    "spy_data[\"rets\"] = (spy_data[\"Close\"] - spy_data[\"Open\"]) / spy_data[\"Open\"]\n",
    "brka_recent[\"rets\"] = (brka_recent[\"Close\"] - brka_recent[\"Open\"]) / brka_recent[\"Open\"]\n"
   ]
  },
  {
   "cell_type": "code",
   "execution_count": 8,
   "metadata": {},
   "outputs": [
    {
     "data": {
      "text/plain": [
       "<matplotlib.axes._subplots.AxesSubplot at 0x1f9092a0cc8>"
      ]
     },
     "execution_count": 8,
     "metadata": {},
     "output_type": "execute_result"
    },
    {
     "data": {
      "image/png": "[encoded data removed]",
      "text/plain": [
       "<Figure size 864x432 with 1 Axes>"
      ]
     },
     "metadata": {
      "needs_background": "light"
     },
     "output_type": "display_data"
    }
   ],
   "source": [
    "spy_wealth = 1000*(1+spy_data[\"rets\"]).cumprod()\n",
    "brka_wealth = 1000*(1+brka_recent[\"rets\"]).cumprod()\n",
    "brka_wealth.plot.line(label=\"BRKA\", legend=True, figsize=(12,6))\n",
    "spy_wealth.plot.line(label=\"SPY\", legend=True)"
   ]
  },
  {
   "cell_type": "code",
   "execution_count": 9,
   "metadata": {},
   "outputs": [
    {
     "name": "stdout",
     "output_type": "stream",
     "text": [
      "Berkshire Analysis:\n",
      "\tExpected annual return: 0.091372\n",
      "\tAnnual Volatility: 0.157096\n",
      "\tSharpe ratio: 0.581088\n"
     ]
    }
   ],
   "source": [
    "import utils as utils\n",
    "rfr = 1.02**(1/252)-1 # PyPortfolioOpt default rate for consistency\n",
    "brk_rets = utils.annualize_rets(brka_recent[\"rets\"], 12)\n",
    "brk_vol = utils.annualize_vol(brka_recent[\"rets\"], 12)\n",
    "brk_sharpe = utils.sharpe_ratio(brka_recent[\"rets\"],rfr, 12)\n",
    "print(\"Berkshire Analysis:\")\n",
    "print(\"\\tExpected annual return: %f\\n\\tAnnual Volatility: %f\\n\\tSharpe ratio: %f\" % (brk_rets, brk_vol, brk_sharpe))"
   ]
  },
  {
   "cell_type": "code",
   "execution_count": 10,
   "metadata": {},
   "outputs": [
    {
     "data": {
      "image/png": "[encoded data removed]",
      "text/plain": [
       "<Figure size 432x288 with 1 Axes>"
      ]
     },
     "metadata": {
      "needs_background": "light"
     },
     "output_type": "display_data"
    },
    {
     "data": {
      "text/plain": [
       "<matplotlib.axes._subplots.AxesSubplot at 0x1f96d2c5748>"
      ]
     },
     "execution_count": 10,
     "metadata": {},
     "output_type": "execute_result"
    }
   ],
   "source": [
    "from pypfopt.efficient_frontier import EfficientFrontier\n",
    "from pypfopt import risk_models\n",
    "from pypfopt import expected_returns\n",
    "from pypfopt import plotting\n",
    "from pypfopt import cla\n",
    "# Read in price data\n",
    "\n",
    "# Calculate expected returns and sample covariance\n",
    "mu = expected_returns.mean_historical_return(eq_pivot)\n",
    "S = risk_models.sample_cov(eq_pivot)\n",
    "\n",
    "# Optimise for maximal Sharpe ratio\n",
    "cla = cla.CLA(mu, S, weight_bounds=(-1,1))\n",
    "plotting.plot_efficient_frontier(cla, points=100, show_assets=True)"
   ]
  },
  {
   "cell_type": "code",
   "execution_count": 11,
   "metadata": {},
   "outputs": [
    {
     "data": {
      "text/html": [
       "<div>\n",
       "<style scoped>\n",
       "    .dataframe tbody tr th:only-of-type {\n",
       "        vertical-align: middle;\n",
       "    }\n",
       "\n",
       "    .dataframe tbody tr th {\n",
       "        vertical-align: top;\n",
       "    }\n",
       "\n",
       "    .dataframe thead th {\n",
       "        text-align: right;\n",
       "    }\n",
       "</style>\n",
       "<table border=\"1\" class=\"dataframe\">\n",
       "  <thead>\n",
       "    <tr style=\"text-align: right;\">\n",
       "      <th></th>\n",
       "      <th>Symbol</th>\n",
       "      <th>Weights</th>\n",
       "    </tr>\n",
       "  </thead>\n",
       "  <tbody>\n",
       "    <tr>\n",
       "      <td>0</td>\n",
       "      <td>AAPL</td>\n",
       "      <td>0.586541</td>\n",
       "    </tr>\n",
       "    <tr>\n",
       "      <td>1</td>\n",
       "      <td>AMZN</td>\n",
       "      <td>0.341954</td>\n",
       "    </tr>\n",
       "    <tr>\n",
       "      <td>2</td>\n",
       "      <td>APA</td>\n",
       "      <td>-0.170120</td>\n",
       "    </tr>\n",
       "    <tr>\n",
       "      <td>3</td>\n",
       "      <td>AXP</td>\n",
       "      <td>0.063377</td>\n",
       "    </tr>\n",
       "    <tr>\n",
       "      <td>4</td>\n",
       "      <td>KO</td>\n",
       "      <td>0.123820</td>\n",
       "    </tr>\n",
       "    <tr>\n",
       "      <td>5</td>\n",
       "      <td>NFLX</td>\n",
       "      <td>0.223659</td>\n",
       "    </tr>\n",
       "    <tr>\n",
       "      <td>6</td>\n",
       "      <td>SU</td>\n",
       "      <td>-0.246972</td>\n",
       "    </tr>\n",
       "    <tr>\n",
       "      <td>7</td>\n",
       "      <td>TSLA</td>\n",
       "      <td>0.286397</td>\n",
       "    </tr>\n",
       "    <tr>\n",
       "      <td>8</td>\n",
       "      <td>UAA</td>\n",
       "      <td>0.052706</td>\n",
       "    </tr>\n",
       "    <tr>\n",
       "      <td>9</td>\n",
       "      <td>XRX</td>\n",
       "      <td>-0.261361</td>\n",
       "    </tr>\n",
       "  </tbody>\n",
       "</table>\n",
       "</div>"
      ],
      "text/plain": [
       "  Symbol   Weights\n",
       "0   AAPL  0.586541\n",
       "1   AMZN  0.341954\n",
       "2    APA -0.170120\n",
       "3    AXP  0.063377\n",
       "4     KO  0.123820\n",
       "5   NFLX  0.223659\n",
       "6     SU -0.246972\n",
       "7   TSLA  0.286397\n",
       "8    UAA  0.052706\n",
       "9    XRX -0.261361"
      ]
     },
     "execution_count": 11,
     "metadata": {},
     "output_type": "execute_result"
    }
   ],
   "source": [
    "weights_df = pd.DataFrame(mu.index)\n",
    "weights_df[\"Weights\"] = cla.weights\n",
    "weights_df"
   ]
  },
  {
   "cell_type": "code",
   "execution_count": 12,
   "metadata": {},
   "outputs": [
    {
     "name": "stdout",
     "output_type": "stream",
     "text": [
      "EF Portfolio Analysis:\n",
      "\tExpected annual return: 0.602191\n",
      "\tAnnual Volatility: 0.349120\n",
      "\tSharpe ratio: 1.667596\n",
      "Berkshire Analysis:\n",
      "\tExpected annual return: 0.091372\n",
      "\tAnnual Volatility: 0.157096\n",
      "\tSharpe ratio: 0.581088\n"
     ]
    }
   ],
   "source": [
    "print(\"EF Portfolio Analysis:\")\n",
    "print(\"\\tExpected annual return: %f\\n\\tAnnual Volatility: %f\\n\\tSharpe ratio: %f\" % (cla.portfolio_performance()))\n",
    "print(\"Berkshire Analysis:\")\n",
    "print(\"\\tExpected annual return: %f\\n\\tAnnual Volatility: %f\\n\\tSharpe ratio: %f\" % (brk_rets, brk_vol, brk_sharpe))"
   ]
  },
  {
   "cell_type": "code",
   "execution_count": null,
   "metadata": {},
   "outputs": [],
   "source": []
  },
  {
   "cell_type": "code",
   "execution_count": null,
   "metadata": {},
   "outputs": [],
   "source": []
  },
  {
   "cell_type": "code",
   "execution_count": null,
   "metadata": {},
   "outputs": [],
   "source": []
  }
 ],
 "metadata": {
  "kernelspec": {
   "display_name": "Python 3",
   "language": "python",
   "name": "python3"
  },
  "language_info": {
   "codemirror_mode": {
    "name": "ipython",
    "version": 3
   },
   "file_extension": ".py",
   "mimetype": "text/x-python",
   "name": "python",
   "nbconvert_exporter": "python",
   "pygments_lexer": "ipython3",
   "version": "3.7.4"
  }
 },
 "nbformat": 4,
 "nbformat_minor": 4
}
