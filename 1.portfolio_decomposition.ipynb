{
 "cells": [
  {
   "cell_type": "code",
   "execution_count": 39,
   "metadata": {},
   "outputs": [
    {
     "name": "stdout",
     "output_type": "stream",
     "text": [
      "The autoreload extension is already loaded. To reload it, use:\n",
      "  %reload_ext autoreload\n"
     ]
    }
   ],
   "source": [
    "import pandas as pd\n",
    "import numpy as np\n",
    "import utils as utils\n",
    "import statsmodels.api as sm\n",
    "import matplotlib.pyplot as plt\n",
    "%load_ext autoreload\n",
    "%autoreload 2\n"
   ]
  },
  {
   "cell_type": "markdown",
   "metadata": {},
   "source": [
    "# Data Cleaning"
   ]
  },
  {
   "cell_type": "code",
   "execution_count": 40,
   "metadata": {},
   "outputs": [
    {
     "data": {
      "text/html": [
       "<div>\n",
       "<style scoped>\n",
       "    .dataframe tbody tr th:only-of-type {\n",
       "        vertical-align: middle;\n",
       "    }\n",
       "\n",
       "    .dataframe tbody tr th {\n",
       "        vertical-align: top;\n",
       "    }\n",
       "\n",
       "    .dataframe thead th {\n",
       "        text-align: right;\n",
       "    }\n",
       "</style>\n",
       "<table border=\"1\" class=\"dataframe\">\n",
       "  <thead>\n",
       "    <tr style=\"text-align: right;\">\n",
       "      <th></th>\n",
       "      <th>Open</th>\n",
       "      <th>High</th>\n",
       "      <th>Low</th>\n",
       "      <th>Close</th>\n",
       "      <th>Adj Close</th>\n",
       "      <th>Volume</th>\n",
       "    </tr>\n",
       "    <tr>\n",
       "      <th>Date</th>\n",
       "      <th></th>\n",
       "      <th></th>\n",
       "      <th></th>\n",
       "      <th></th>\n",
       "      <th></th>\n",
       "      <th></th>\n",
       "    </tr>\n",
       "  </thead>\n",
       "  <tbody>\n",
       "    <tr>\n",
       "      <td>1990-01-01</td>\n",
       "      <td>8675.0</td>\n",
       "      <td>8725.0</td>\n",
       "      <td>6950.0</td>\n",
       "      <td>7455.0</td>\n",
       "      <td>7455.0</td>\n",
       "      <td>1047000</td>\n",
       "    </tr>\n",
       "    <tr>\n",
       "      <td>1990-02-01</td>\n",
       "      <td>7455.0</td>\n",
       "      <td>7950.0</td>\n",
       "      <td>7075.0</td>\n",
       "      <td>7225.0</td>\n",
       "      <td>7225.0</td>\n",
       "      <td>751000</td>\n",
       "    </tr>\n",
       "    <tr>\n",
       "      <td>1990-03-01</td>\n",
       "      <td>7225.0</td>\n",
       "      <td>7475.0</td>\n",
       "      <td>6675.0</td>\n",
       "      <td>6725.0</td>\n",
       "      <td>6725.0</td>\n",
       "      <td>630000</td>\n",
       "    </tr>\n",
       "    <tr>\n",
       "      <td>1990-04-01</td>\n",
       "      <td>6700.0</td>\n",
       "      <td>7025.0</td>\n",
       "      <td>6575.0</td>\n",
       "      <td>6700.0</td>\n",
       "      <td>6700.0</td>\n",
       "      <td>430000</td>\n",
       "    </tr>\n",
       "    <tr>\n",
       "      <td>1990-05-01</td>\n",
       "      <td>6700.0</td>\n",
       "      <td>7675.0</td>\n",
       "      <td>6700.0</td>\n",
       "      <td>7150.0</td>\n",
       "      <td>7150.0</td>\n",
       "      <td>427000</td>\n",
       "    </tr>\n",
       "  </tbody>\n",
       "</table>\n",
       "</div>"
      ],
      "text/plain": [
       "              Open    High     Low   Close  Adj Close   Volume\n",
       "Date                                                          \n",
       "1990-01-01  8675.0  8725.0  6950.0  7455.0     7455.0  1047000\n",
       "1990-02-01  7455.0  7950.0  7075.0  7225.0     7225.0   751000\n",
       "1990-03-01  7225.0  7475.0  6675.0  6725.0     6725.0   630000\n",
       "1990-04-01  6700.0  7025.0  6575.0  6700.0     6700.0   430000\n",
       "1990-05-01  6700.0  7675.0  6700.0  7150.0     7150.0   427000"
      ]
     },
     "execution_count": 40,
     "metadata": {},
     "output_type": "execute_result"
    }
   ],
   "source": [
    "# Import brka data\n",
    "\n",
    "brk_data = pd.read_csv(\"data/BRK-A.csv\", parse_dates=True, index_col=0)\n",
    "brk_data.head()"
   ]
  },
  {
   "cell_type": "code",
   "execution_count": 41,
   "metadata": {},
   "outputs": [
    {
     "data": {
      "text/html": [
       "<div>\n",
       "<style scoped>\n",
       "    .dataframe tbody tr th:only-of-type {\n",
       "        vertical-align: middle;\n",
       "    }\n",
       "\n",
       "    .dataframe tbody tr th {\n",
       "        vertical-align: top;\n",
       "    }\n",
       "\n",
       "    .dataframe thead th {\n",
       "        text-align: right;\n",
       "    }\n",
       "</style>\n",
       "<table border=\"1\" class=\"dataframe\">\n",
       "  <thead>\n",
       "    <tr style=\"text-align: right;\">\n",
       "      <th></th>\n",
       "      <th>Open</th>\n",
       "      <th>High</th>\n",
       "      <th>Low</th>\n",
       "      <th>Close</th>\n",
       "      <th>Adj Close</th>\n",
       "      <th>Volume</th>\n",
       "      <th>rets</th>\n",
       "    </tr>\n",
       "    <tr>\n",
       "      <th>Date</th>\n",
       "      <th></th>\n",
       "      <th></th>\n",
       "      <th></th>\n",
       "      <th></th>\n",
       "      <th></th>\n",
       "      <th></th>\n",
       "      <th></th>\n",
       "    </tr>\n",
       "  </thead>\n",
       "  <tbody>\n",
       "    <tr>\n",
       "      <td>2020-05</td>\n",
       "      <td>278121.0</td>\n",
       "      <td>280899.0</td>\n",
       "      <td>250926.00</td>\n",
       "      <td>278640.0</td>\n",
       "      <td>278640.0</td>\n",
       "      <td>8500</td>\n",
       "      <td>0.001866</td>\n",
       "    </tr>\n",
       "    <tr>\n",
       "      <td>2020-06</td>\n",
       "      <td>278167.0</td>\n",
       "      <td>304990.0</td>\n",
       "      <td>262700.00</td>\n",
       "      <td>267300.0</td>\n",
       "      <td>267300.0</td>\n",
       "      <td>13700</td>\n",
       "      <td>-0.039066</td>\n",
       "    </tr>\n",
       "    <tr>\n",
       "      <td>2020-07</td>\n",
       "      <td>267600.0</td>\n",
       "      <td>294870.0</td>\n",
       "      <td>266357.00</td>\n",
       "      <td>293631.0</td>\n",
       "      <td>293631.0</td>\n",
       "      <td>7700</td>\n",
       "      <td>0.097276</td>\n",
       "    </tr>\n",
       "    <tr>\n",
       "      <td>2020-08</td>\n",
       "      <td>295000.0</td>\n",
       "      <td>323500.0</td>\n",
       "      <td>294510.00</td>\n",
       "      <td>316251.0</td>\n",
       "      <td>316251.0</td>\n",
       "      <td>45000</td>\n",
       "      <td>0.072037</td>\n",
       "    </tr>\n",
       "    <tr>\n",
       "      <td>2020-08</td>\n",
       "      <td>317300.0</td>\n",
       "      <td>318000.0</td>\n",
       "      <td>315402.25</td>\n",
       "      <td>316251.0</td>\n",
       "      <td>316251.0</td>\n",
       "      <td>222</td>\n",
       "      <td>-0.003306</td>\n",
       "    </tr>\n",
       "  </tbody>\n",
       "</table>\n",
       "</div>"
      ],
      "text/plain": [
       "             Open      High        Low     Close  Adj Close  Volume      rets\n",
       "Date                                                                         \n",
       "2020-05  278121.0  280899.0  250926.00  278640.0   278640.0    8500  0.001866\n",
       "2020-06  278167.0  304990.0  262700.00  267300.0   267300.0   13700 -0.039066\n",
       "2020-07  267600.0  294870.0  266357.00  293631.0   293631.0    7700  0.097276\n",
       "2020-08  295000.0  323500.0  294510.00  316251.0   316251.0   45000  0.072037\n",
       "2020-08  317300.0  318000.0  315402.25  316251.0   316251.0     222 -0.003306"
      ]
     },
     "execution_count": 41,
     "metadata": {},
     "output_type": "execute_result"
    }
   ],
   "source": [
    "# Calculate monthly returns for brka portfolio\n",
    "\n",
    "brk_data[\"rets\"] = (brk_data[\"Close\"] - brk_data[\"Open\"]) / brk_data[\"Open\"]\n",
    "brk_data = brk_data.to_period('M')\n",
    "brk_data.tail()"
   ]
  },
  {
   "cell_type": "code",
   "execution_count": 42,
   "metadata": {},
   "outputs": [
    {
     "data": {
      "text/html": [
       "<div>\n",
       "<style scoped>\n",
       "    .dataframe tbody tr th:only-of-type {\n",
       "        vertical-align: middle;\n",
       "    }\n",
       "\n",
       "    .dataframe tbody tr th {\n",
       "        vertical-align: top;\n",
       "    }\n",
       "\n",
       "    .dataframe thead th {\n",
       "        text-align: right;\n",
       "    }\n",
       "</style>\n",
       "<table border=\"1\" class=\"dataframe\">\n",
       "  <thead>\n",
       "    <tr style=\"text-align: right;\">\n",
       "      <th></th>\n",
       "      <th>Mkt-RF</th>\n",
       "      <th>SMB</th>\n",
       "      <th>HML</th>\n",
       "      <th>RMW</th>\n",
       "      <th>CMA</th>\n",
       "      <th>RF</th>\n",
       "    </tr>\n",
       "  </thead>\n",
       "  <tbody>\n",
       "    <tr>\n",
       "      <td>2020-02</td>\n",
       "      <td>-0.0813</td>\n",
       "      <td>-0.0007</td>\n",
       "      <td>-0.0401</td>\n",
       "      <td>-0.0164</td>\n",
       "      <td>-0.0253</td>\n",
       "      <td>0.0012</td>\n",
       "    </tr>\n",
       "    <tr>\n",
       "      <td>2020-03</td>\n",
       "      <td>-0.1339</td>\n",
       "      <td>-0.0845</td>\n",
       "      <td>-0.1412</td>\n",
       "      <td>-0.0133</td>\n",
       "      <td>0.0122</td>\n",
       "      <td>0.0012</td>\n",
       "    </tr>\n",
       "    <tr>\n",
       "      <td>2020-04</td>\n",
       "      <td>0.1365</td>\n",
       "      <td>0.0282</td>\n",
       "      <td>-0.0127</td>\n",
       "      <td>0.0259</td>\n",
       "      <td>-0.0109</td>\n",
       "      <td>0.0000</td>\n",
       "    </tr>\n",
       "    <tr>\n",
       "      <td>2020-05</td>\n",
       "      <td>0.0558</td>\n",
       "      <td>0.0192</td>\n",
       "      <td>-0.0495</td>\n",
       "      <td>0.0072</td>\n",
       "      <td>-0.0332</td>\n",
       "      <td>0.0001</td>\n",
       "    </tr>\n",
       "    <tr>\n",
       "      <td>2020-06</td>\n",
       "      <td>0.0245</td>\n",
       "      <td>0.0189</td>\n",
       "      <td>-0.0203</td>\n",
       "      <td>0.0013</td>\n",
       "      <td>0.0037</td>\n",
       "      <td>0.0001</td>\n",
       "    </tr>\n",
       "  </tbody>\n",
       "</table>\n",
       "</div>"
      ],
      "text/plain": [
       "         Mkt-RF     SMB     HML     RMW     CMA      RF\n",
       "2020-02 -0.0813 -0.0007 -0.0401 -0.0164 -0.0253  0.0012\n",
       "2020-03 -0.1339 -0.0845 -0.1412 -0.0133  0.0122  0.0012\n",
       "2020-04  0.1365  0.0282 -0.0127  0.0259 -0.0109  0.0000\n",
       "2020-05  0.0558  0.0192 -0.0495  0.0072 -0.0332  0.0001\n",
       "2020-06  0.0245  0.0189 -0.0203  0.0013  0.0037  0.0001"
      ]
     },
     "execution_count": 42,
     "metadata": {},
     "output_type": "execute_result"
    }
   ],
   "source": [
    "# Import fama-french data and convert to %\n",
    "\n",
    "fff_data = pd.read_csv(\"data/fama_french.csv\", header=0, index_col=0, na_values=-99.99)/100\n",
    "fff_data.index = pd.to_datetime(fff_data.index, format=\"%Y%m\").to_period('M')\n",
    "fff_data.tail()"
   ]
  },
  {
   "cell_type": "markdown",
   "metadata": {},
   "source": [
    "# CAPM Benchmark"
   ]
  },
  {
   "cell_type": "code",
   "execution_count": 43,
   "metadata": {},
   "outputs": [
    {
     "data": {
      "text/plain": [
       "Text(0.5, 1.0, 'CAPM')"
      ]
     },
     "execution_count": 43,
     "metadata": {},
     "output_type": "execute_result"
    },
    {
     "data": {
      "image/png": "[encoded data removed]",
      "text/plain": [
       "<Figure size 1080x576 with 1 Axes>"
      ]
     },
     "metadata": {
      "needs_background": "light"
     },
     "output_type": "display_data"
    }
   ],
   "source": [
    "brka_excess = brk_data.loc[\"2016-06\":\"2020-06\", ['rets']] - fff_data.loc[\"2016-06\":\"2020-06\", ['RF']].values\n",
    "mkt_excess = fff_data.loc[\"2016-06\":\"2020-06\", ['Mkt-RF']]\n",
    "exp_var = mkt_excess.copy()\n",
    "exp_var[\"Constant\"] = 1\n",
    "capm_lm = sm.OLS(brka_excess, exp_var).fit()\n",
    "\n",
    "fig, ax = plt.subplots(figsize=(15,8))\n",
    "fig = sm.graphics.plot_fit(capm_lm, 0 , ax=ax)\n",
    "ax.set_ylabel(\"Returns\")\n",
    "ax.set_xlabel(\"Beta\")\n",
    "ax.set_title(\"CAPM\")"
   ]
  },
  {
   "cell_type": "code",
   "execution_count": 44,
   "metadata": {},
   "outputs": [
    {
     "data": {
      "text/html": [
       "<table class=\"simpletable\">\n",
       "<caption>OLS Regression Results</caption>\n",
       "<tr>\n",
       "  <th>Dep. Variable:</th>          <td>rets</td>       <th>  R-squared:         </th> <td>   0.612</td>\n",
       "</tr>\n",
       "<tr>\n",
       "  <th>Model:</th>                   <td>OLS</td>       <th>  Adj. R-squared:    </th> <td>   0.604</td>\n",
       "</tr>\n",
       "<tr>\n",
       "  <th>Method:</th>             <td>Least Squares</td>  <th>  F-statistic:       </th> <td>   74.21</td>\n",
       "</tr>\n",
       "<tr>\n",
       "  <th>Date:</th>             <td>Thu, 01 Oct 2020</td> <th>  Prob (F-statistic):</th> <td>3.13e-11</td>\n",
       "</tr>\n",
       "<tr>\n",
       "  <th>Time:</th>                 <td>17:16:58</td>     <th>  Log-Likelihood:    </th> <td>  103.54</td>\n",
       "</tr>\n",
       "<tr>\n",
       "  <th>No. Observations:</th>      <td>    49</td>      <th>  AIC:               </th> <td>  -203.1</td>\n",
       "</tr>\n",
       "<tr>\n",
       "  <th>Df Residuals:</th>          <td>    47</td>      <th>  BIC:               </th> <td>  -199.3</td>\n",
       "</tr>\n",
       "<tr>\n",
       "  <th>Df Model:</th>              <td>     1</td>      <th>                     </th>     <td> </td>   \n",
       "</tr>\n",
       "<tr>\n",
       "  <th>Covariance Type:</th>      <td>nonrobust</td>    <th>                     </th>     <td> </td>   \n",
       "</tr>\n",
       "</table>\n",
       "<table class=\"simpletable\">\n",
       "<tr>\n",
       "      <td></td>        <th>coef</th>     <th>std err</th>      <th>t</th>      <th>P>|t|</th>  <th>[0.025</th>    <th>0.975]</th>  \n",
       "</tr>\n",
       "<tr>\n",
       "  <th>Mkt-RF</th>   <td>    0.8228</td> <td>    0.096</td> <td>    8.614</td> <td> 0.000</td> <td>    0.631</td> <td>    1.015</td>\n",
       "</tr>\n",
       "<tr>\n",
       "  <th>Constant</th> <td>   -0.0056</td> <td>    0.004</td> <td>   -1.278</td> <td> 0.208</td> <td>   -0.014</td> <td>    0.003</td>\n",
       "</tr>\n",
       "</table>\n",
       "<table class=\"simpletable\">\n",
       "<tr>\n",
       "  <th>Omnibus:</th>       <td> 3.885</td> <th>  Durbin-Watson:     </th> <td>   1.586</td>\n",
       "</tr>\n",
       "<tr>\n",
       "  <th>Prob(Omnibus):</th> <td> 0.143</td> <th>  Jarque-Bera (JB):  </th> <td>   1.776</td>\n",
       "</tr>\n",
       "<tr>\n",
       "  <th>Skew:</th>          <td> 0.015</td> <th>  Prob(JB):          </th> <td>   0.412</td>\n",
       "</tr>\n",
       "<tr>\n",
       "  <th>Kurtosis:</th>      <td> 2.068</td> <th>  Cond. No.          </th> <td>    22.4</td>\n",
       "</tr>\n",
       "</table><br/><br/>Warnings:<br/>[1] Standard Errors assume that the covariance matrix of the errors is correctly specified."
      ],
      "text/plain": [
       "<class 'statsmodels.iolib.summary.Summary'>\n",
       "\"\"\"\n",
       "                            OLS Regression Results                            \n",
       "==============================================================================\n",
       "Dep. Variable:                   rets   R-squared:                       0.612\n",
       "Model:                            OLS   Adj. R-squared:                  0.604\n",
       "Method:                 Least Squares   F-statistic:                     74.21\n",
       "Date:                Thu, 01 Oct 2020   Prob (F-statistic):           3.13e-11\n",
       "Time:                        17:16:58   Log-Likelihood:                 103.54\n",
       "No. Observations:                  49   AIC:                            -203.1\n",
       "Df Residuals:                      47   BIC:                            -199.3\n",
       "Df Model:                           1                                         \n",
       "Covariance Type:            nonrobust                                         \n",
       "==============================================================================\n",
       "                 coef    std err          t      P>|t|      [0.025      0.975]\n",
       "------------------------------------------------------------------------------\n",
       "Mkt-RF         0.8228      0.096      8.614      0.000       0.631       1.015\n",
       "Constant      -0.0056      0.004     -1.278      0.208      -0.014       0.003\n",
       "==============================================================================\n",
       "Omnibus:                        3.885   Durbin-Watson:                   1.586\n",
       "Prob(Omnibus):                  0.143   Jarque-Bera (JB):                1.776\n",
       "Skew:                           0.015   Prob(JB):                        0.412\n",
       "Kurtosis:                       2.068   Cond. No.                         22.4\n",
       "==============================================================================\n",
       "\n",
       "Warnings:\n",
       "[1] Standard Errors assume that the covariance matrix of the errors is correctly specified.\n",
       "\"\"\""
      ]
     },
     "execution_count": 44,
     "metadata": {},
     "output_type": "execute_result"
    }
   ],
   "source": [
    "capm_lm.summary()"
   ]
  },
  {
   "cell_type": "markdown",
   "metadata": {},
   "source": [
    "# CAPM Interpretation\n",
    "Each dollar in the BRKA portfolio is equivalent to 82 cents in Treasury Bills and 18 cents in the market\n",
    "\n",
    "𝛼 value of 0.56% relative to market"
   ]
  },
  {
   "cell_type": "markdown",
   "metadata": {},
   "source": [
    "# Fama-French Benchmark"
   ]
  },
  {
   "cell_type": "code",
   "execution_count": 45,
   "metadata": {},
   "outputs": [
    {
     "data": {
      "image/png": "[encoded data removed]",
      "text/plain": [
       "<Figure size 1152x864 with 6 Axes>"
      ]
     },
     "metadata": {
      "needs_background": "light"
     },
     "output_type": "display_data"
    }
   ],
   "source": [
    "exp_var[\"Value\"] = fff_data.loc[\"2016-06\":\"2020-06\",['HML']]\n",
    "exp_var[\"Size\"] = fff_data.loc[\"2016-06\":\"2020-06\",['SMB']]\n",
    "exp_var[\"Quality\"] = fff_data.loc[\"2016-06\":\"2020-06\",['RMW']]\n",
    "exp_var[\"Low Vol\"] = fff_data.loc[\"2016-06\":\"2020-06\",['CMA']]\n",
    "fff_lm = sm.OLS(brka_excess, exp_var).fit()\n",
    "\n",
    "fig = plt.figure(figsize=(16,12))\n",
    "sm.graphics.plot_partregress_grid(fff_lm, fig=fig)\n",
    "plt.show()"
   ]
  },
  {
   "cell_type": "code",
   "execution_count": 46,
   "metadata": {},
   "outputs": [
    {
     "data": {
      "text/html": [
       "<table class=\"simpletable\">\n",
       "<caption>OLS Regression Results</caption>\n",
       "<tr>\n",
       "  <th>Dep. Variable:</th>          <td>rets</td>       <th>  R-squared:         </th> <td>   0.772</td>\n",
       "</tr>\n",
       "<tr>\n",
       "  <th>Model:</th>                   <td>OLS</td>       <th>  Adj. R-squared:    </th> <td>   0.746</td>\n",
       "</tr>\n",
       "<tr>\n",
       "  <th>Method:</th>             <td>Least Squares</td>  <th>  F-statistic:       </th> <td>   29.18</td>\n",
       "</tr>\n",
       "<tr>\n",
       "  <th>Date:</th>             <td>Thu, 01 Oct 2020</td> <th>  Prob (F-statistic):</th> <td>8.57e-13</td>\n",
       "</tr>\n",
       "<tr>\n",
       "  <th>Time:</th>                 <td>17:16:59</td>     <th>  Log-Likelihood:    </th> <td>  116.59</td>\n",
       "</tr>\n",
       "<tr>\n",
       "  <th>No. Observations:</th>      <td>    49</td>      <th>  AIC:               </th> <td>  -221.2</td>\n",
       "</tr>\n",
       "<tr>\n",
       "  <th>Df Residuals:</th>          <td>    43</td>      <th>  BIC:               </th> <td>  -209.8</td>\n",
       "</tr>\n",
       "<tr>\n",
       "  <th>Df Model:</th>              <td>     5</td>      <th>                     </th>     <td> </td>   \n",
       "</tr>\n",
       "<tr>\n",
       "  <th>Covariance Type:</th>      <td>nonrobust</td>    <th>                     </th>     <td> </td>   \n",
       "</tr>\n",
       "</table>\n",
       "<table class=\"simpletable\">\n",
       "<tr>\n",
       "      <td></td>        <th>coef</th>     <th>std err</th>      <th>t</th>      <th>P>|t|</th>  <th>[0.025</th>    <th>0.975]</th>  \n",
       "</tr>\n",
       "<tr>\n",
       "  <th>Mkt-RF</th>   <td>    0.8870</td> <td>    0.108</td> <td>    8.236</td> <td> 0.000</td> <td>    0.670</td> <td>    1.104</td>\n",
       "</tr>\n",
       "<tr>\n",
       "  <th>Constant</th> <td>   -0.0011</td> <td>    0.004</td> <td>   -0.294</td> <td> 0.770</td> <td>   -0.009</td> <td>    0.006</td>\n",
       "</tr>\n",
       "<tr>\n",
       "  <th>Value</th>    <td>    0.6249</td> <td>    0.138</td> <td>    4.528</td> <td> 0.000</td> <td>    0.347</td> <td>    0.903</td>\n",
       "</tr>\n",
       "<tr>\n",
       "  <th>Size</th>     <td>   -0.5960</td> <td>    0.173</td> <td>   -3.449</td> <td> 0.001</td> <td>   -0.945</td> <td>   -0.248</td>\n",
       "</tr>\n",
       "<tr>\n",
       "  <th>Quality</th>  <td>   -0.2754</td> <td>    0.324</td> <td>   -0.850</td> <td> 0.400</td> <td>   -0.929</td> <td>    0.378</td>\n",
       "</tr>\n",
       "<tr>\n",
       "  <th>Low Vol</th>  <td>   -0.0930</td> <td>    0.264</td> <td>   -0.353</td> <td> 0.726</td> <td>   -0.625</td> <td>    0.439</td>\n",
       "</tr>\n",
       "</table>\n",
       "<table class=\"simpletable\">\n",
       "<tr>\n",
       "  <th>Omnibus:</th>       <td> 0.264</td> <th>  Durbin-Watson:     </th> <td>   2.192</td>\n",
       "</tr>\n",
       "<tr>\n",
       "  <th>Prob(Omnibus):</th> <td> 0.876</td> <th>  Jarque-Bera (JB):  </th> <td>   0.116</td>\n",
       "</tr>\n",
       "<tr>\n",
       "  <th>Skew:</th>          <td>-0.117</td> <th>  Prob(JB):          </th> <td>   0.944</td>\n",
       "</tr>\n",
       "<tr>\n",
       "  <th>Kurtosis:</th>      <td> 2.957</td> <th>  Cond. No.          </th> <td>    99.6</td>\n",
       "</tr>\n",
       "</table><br/><br/>Warnings:<br/>[1] Standard Errors assume that the covariance matrix of the errors is correctly specified."
      ],
      "text/plain": [
       "<class 'statsmodels.iolib.summary.Summary'>\n",
       "\"\"\"\n",
       "                            OLS Regression Results                            \n",
       "==============================================================================\n",
       "Dep. Variable:                   rets   R-squared:                       0.772\n",
       "Model:                            OLS   Adj. R-squared:                  0.746\n",
       "Method:                 Least Squares   F-statistic:                     29.18\n",
       "Date:                Thu, 01 Oct 2020   Prob (F-statistic):           8.57e-13\n",
       "Time:                        17:16:59   Log-Likelihood:                 116.59\n",
       "No. Observations:                  49   AIC:                            -221.2\n",
       "Df Residuals:                      43   BIC:                            -209.8\n",
       "Df Model:                           5                                         \n",
       "Covariance Type:            nonrobust                                         \n",
       "==============================================================================\n",
       "                 coef    std err          t      P>|t|      [0.025      0.975]\n",
       "------------------------------------------------------------------------------\n",
       "Mkt-RF         0.8870      0.108      8.236      0.000       0.670       1.104\n",
       "Constant      -0.0011      0.004     -0.294      0.770      -0.009       0.006\n",
       "Value          0.6249      0.138      4.528      0.000       0.347       0.903\n",
       "Size          -0.5960      0.173     -3.449      0.001      -0.945      -0.248\n",
       "Quality       -0.2754      0.324     -0.850      0.400      -0.929       0.378\n",
       "Low Vol       -0.0930      0.264     -0.353      0.726      -0.625       0.439\n",
       "==============================================================================\n",
       "Omnibus:                        0.264   Durbin-Watson:                   2.192\n",
       "Prob(Omnibus):                  0.876   Jarque-Bera (JB):                0.116\n",
       "Skew:                          -0.117   Prob(JB):                        0.944\n",
       "Kurtosis:                       2.957   Cond. No.                         99.6\n",
       "==============================================================================\n",
       "\n",
       "Warnings:\n",
       "[1] Standard Errors assume that the covariance matrix of the errors is correctly specified.\n",
       "\"\"\""
      ]
     },
     "execution_count": 46,
     "metadata": {},
     "output_type": "execute_result"
    }
   ],
   "source": [
    "fff_lm.summary()"
   ]
  },
  {
   "cell_type": "markdown",
   "metadata": {},
   "source": [
    "# Fama-French Interpretation\n",
    " - BRKA primarily invests in value stocks\n",
    " - BRKA for everydollar:\n",
    "     - 89 cents in market, 11 cents in T-bills\n",
    "     - Long 62 cents on value stocks, short 62 cents in growth stocks\n",
    "     - Short 60 cents in Smallcaps, Long 60 cents in LargeCaps\n",
    "     - Long 28 cents on profitable companies, short 28 cents on non-profitable companies\n",
    "     - Short 9 cents on low-vol stocks, long 9 cents on high-vol stocks\n",
    " - If we follow the above, we will outperform BRKA by 0.11%"
   ]
  },
  {
   "cell_type": "code",
   "execution_count": null,
   "metadata": {},
   "outputs": [],
   "source": []
  },
  {
   "cell_type": "code",
   "execution_count": null,
   "metadata": {},
   "outputs": [],
   "source": []
  }
 ],
 "metadata": {
  "kernelspec": {
   "display_name": "Python 3",
   "language": "python",
   "name": "python3"
  },
  "language_info": {
   "codemirror_mode": {
    "name": "ipython",
    "version": 3
   },
   "file_extension": ".py",
   "mimetype": "text/x-python",
   "name": "python",
   "nbconvert_exporter": "python",
   "pygments_lexer": "ipython3",
   "version": "3.7.4"
  }
 },
 "nbformat": 4,
 "nbformat_minor": 4
}
