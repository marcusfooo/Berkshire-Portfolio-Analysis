{
 "cells": [
  {
   "cell_type": "code",
   "execution_count": null,
   "metadata": {},
   "outputs": [],
   "source": [
    "#!pip install pandas_datareader -q\n",
    "#!pip install PyPortfolioOpt -q"
   ]
  },
  {
   "cell_type": "code",
   "execution_count": 1,
   "metadata": {},
   "outputs": [],
   "source": [
    "import numpy as np\n",
    "import pandas as pd\n",
    "import pandas_datareader as web\n",
    "from datetime import datetime\n",
    "import matplotlib.pyplot as plt\n",
    "import seaborn as sns\n",
    "import pypfopt\n",
    "%load_ext autoreload\n",
    "%autoreload 2\n"
   ]
  },
  {
   "cell_type": "markdown",
   "metadata": {},
   "source": [
    "# Stock Selection\n",
    "\n",
    "BRKA portfolio tracker: https://www.dataroma.com/m/holdings.php?m=BRK \n",
    "\n",
    "Here, we referred to the link above to identify what are the major components of the Berkshire Portfolio.\n",
    "\n",
    "We try to select a manageable number of stocks, in this case 10, which are generally uncorrelated with each other to allow us to build a more stable portfolio."
   ]
  },
  {
   "cell_type": "code",
   "execution_count": 2,
   "metadata": {},
   "outputs": [
    {
     "data": {
      "text/html": [
       "<div>\n",
       "<style scoped>\n",
       "    .dataframe tbody tr th:only-of-type {\n",
       "        vertical-align: middle;\n",
       "    }\n",
       "\n",
       "    .dataframe tbody tr th {\n",
       "        vertical-align: top;\n",
       "    }\n",
       "\n",
       "    .dataframe thead th {\n",
       "        text-align: right;\n",
       "    }\n",
       "</style>\n",
       "<table border=\"1\" class=\"dataframe\">\n",
       "  <thead>\n",
       "    <tr style=\"text-align: right;\">\n",
       "      <th></th>\n",
       "      <th>Date</th>\n",
       "      <th>Close</th>\n",
       "      <th>Symbol</th>\n",
       "    </tr>\n",
       "  </thead>\n",
       "  <tbody>\n",
       "    <tr>\n",
       "      <td>0</td>\n",
       "      <td>2009-12-31</td>\n",
       "      <td>7.526072</td>\n",
       "      <td>AAPL</td>\n",
       "    </tr>\n",
       "    <tr>\n",
       "      <td>1</td>\n",
       "      <td>2010-01-04</td>\n",
       "      <td>7.643214</td>\n",
       "      <td>AAPL</td>\n",
       "    </tr>\n",
       "    <tr>\n",
       "      <td>2</td>\n",
       "      <td>2010-01-05</td>\n",
       "      <td>7.656428</td>\n",
       "      <td>AAPL</td>\n",
       "    </tr>\n",
       "    <tr>\n",
       "      <td>3</td>\n",
       "      <td>2010-01-06</td>\n",
       "      <td>7.534643</td>\n",
       "      <td>AAPL</td>\n",
       "    </tr>\n",
       "    <tr>\n",
       "      <td>4</td>\n",
       "      <td>2010-01-07</td>\n",
       "      <td>7.520714</td>\n",
       "      <td>AAPL</td>\n",
       "    </tr>\n",
       "  </tbody>\n",
       "</table>\n",
       "</div>"
      ],
      "text/plain": [
       "        Date     Close Symbol\n",
       "0 2009-12-31  7.526072   AAPL\n",
       "1 2010-01-04  7.643214   AAPL\n",
       "2 2010-01-05  7.656428   AAPL\n",
       "3 2010-01-06  7.534643   AAPL\n",
       "4 2010-01-07  7.520714   AAPL"
      ]
     },
     "execution_count": 2,
     "metadata": {},
     "output_type": "execute_result"
    }
   ],
   "source": [
    "start = datetime(2010, 1, 1)\n",
    "symbols_list = ['AAPL', 'AXP', 'UAA', 'APA', 'SU', 'NFLX', 'XRX','AMZN', 'KO', 'TSLA']\n",
    "\n",
    "symbols = []\n",
    "for ticker in symbols_list:\n",
    "    r = web.DataReader(ticker, 'yahoo', start)\n",
    "    r[\"Symbol\"] = ticker\n",
    "    symbols.append(r)\n",
    "    \n",
    "eq_df = pd.concat(symbols).reset_index()\n",
    "eq_df = eq_df[['Date', 'Close', 'Symbol']]\n",
    "eq_df.head()"
   ]
  },
  {
   "cell_type": "code",
   "execution_count": 3,
   "metadata": {},
   "outputs": [
    {
     "data": {
      "text/html": [
       "<div>\n",
       "<style scoped>\n",
       "    .dataframe tbody tr th:only-of-type {\n",
       "        vertical-align: middle;\n",
       "    }\n",
       "\n",
       "    .dataframe tbody tr th {\n",
       "        vertical-align: top;\n",
       "    }\n",
       "\n",
       "    .dataframe thead th {\n",
       "        text-align: right;\n",
       "    }\n",
       "</style>\n",
       "<table border=\"1\" class=\"dataframe\">\n",
       "  <thead>\n",
       "    <tr style=\"text-align: right;\">\n",
       "      <th>Symbol</th>\n",
       "      <th>AAPL</th>\n",
       "      <th>AMZN</th>\n",
       "      <th>APA</th>\n",
       "      <th>AXP</th>\n",
       "      <th>KO</th>\n",
       "      <th>NFLX</th>\n",
       "      <th>SU</th>\n",
       "      <th>TSLA</th>\n",
       "      <th>UAA</th>\n",
       "      <th>XRX</th>\n",
       "    </tr>\n",
       "    <tr>\n",
       "      <th>Date</th>\n",
       "      <th></th>\n",
       "      <th></th>\n",
       "      <th></th>\n",
       "      <th></th>\n",
       "      <th></th>\n",
       "      <th></th>\n",
       "      <th></th>\n",
       "      <th></th>\n",
       "      <th></th>\n",
       "      <th></th>\n",
       "    </tr>\n",
       "  </thead>\n",
       "  <tbody>\n",
       "    <tr>\n",
       "      <td>2009-12-31</td>\n",
       "      <td>7.526072</td>\n",
       "      <td>134.520004</td>\n",
       "      <td>103.169998</td>\n",
       "      <td>40.520000</td>\n",
       "      <td>28.500000</td>\n",
       "      <td>7.870000</td>\n",
       "      <td>35.310001</td>\n",
       "      <td>NaN</td>\n",
       "      <td>3.40875</td>\n",
       "      <td>22.292490</td>\n",
       "    </tr>\n",
       "    <tr>\n",
       "      <td>2010-01-04</td>\n",
       "      <td>7.643214</td>\n",
       "      <td>133.899994</td>\n",
       "      <td>105.870003</td>\n",
       "      <td>40.919998</td>\n",
       "      <td>28.520000</td>\n",
       "      <td>7.640000</td>\n",
       "      <td>36.759998</td>\n",
       "      <td>NaN</td>\n",
       "      <td>3.51000</td>\n",
       "      <td>22.740448</td>\n",
       "    </tr>\n",
       "    <tr>\n",
       "      <td>2010-01-05</td>\n",
       "      <td>7.656428</td>\n",
       "      <td>134.690002</td>\n",
       "      <td>107.120003</td>\n",
       "      <td>40.830002</td>\n",
       "      <td>28.174999</td>\n",
       "      <td>7.358572</td>\n",
       "      <td>37.270000</td>\n",
       "      <td>NaN</td>\n",
       "      <td>3.61500</td>\n",
       "      <td>22.766798</td>\n",
       "    </tr>\n",
       "    <tr>\n",
       "      <td>2010-01-06</td>\n",
       "      <td>7.534643</td>\n",
       "      <td>132.250000</td>\n",
       "      <td>108.800003</td>\n",
       "      <td>41.490002</td>\n",
       "      <td>28.165001</td>\n",
       "      <td>7.617143</td>\n",
       "      <td>38.009998</td>\n",
       "      <td>NaN</td>\n",
       "      <td>3.69500</td>\n",
       "      <td>22.555994</td>\n",
       "    </tr>\n",
       "    <tr>\n",
       "      <td>2010-01-07</td>\n",
       "      <td>7.520714</td>\n",
       "      <td>130.000000</td>\n",
       "      <td>107.150002</td>\n",
       "      <td>41.980000</td>\n",
       "      <td>28.094999</td>\n",
       "      <td>7.485714</td>\n",
       "      <td>37.509998</td>\n",
       "      <td>NaN</td>\n",
       "      <td>3.65125</td>\n",
       "      <td>22.661396</td>\n",
       "    </tr>\n",
       "  </tbody>\n",
       "</table>\n",
       "</div>"
      ],
      "text/plain": [
       "Symbol          AAPL        AMZN         APA        AXP         KO      NFLX  \\\n",
       "Date                                                                           \n",
       "2009-12-31  7.526072  134.520004  103.169998  40.520000  28.500000  7.870000   \n",
       "2010-01-04  7.643214  133.899994  105.870003  40.919998  28.520000  7.640000   \n",
       "2010-01-05  7.656428  134.690002  107.120003  40.830002  28.174999  7.358572   \n",
       "2010-01-06  7.534643  132.250000  108.800003  41.490002  28.165001  7.617143   \n",
       "2010-01-07  7.520714  130.000000  107.150002  41.980000  28.094999  7.485714   \n",
       "\n",
       "Symbol             SU  TSLA      UAA        XRX  \n",
       "Date                                             \n",
       "2009-12-31  35.310001   NaN  3.40875  22.292490  \n",
       "2010-01-04  36.759998   NaN  3.51000  22.740448  \n",
       "2010-01-05  37.270000   NaN  3.61500  22.766798  \n",
       "2010-01-06  38.009998   NaN  3.69500  22.555994  \n",
       "2010-01-07  37.509998   NaN  3.65125  22.661396  "
      ]
     },
     "execution_count": 3,
     "metadata": {},
     "output_type": "execute_result"
    }
   ],
   "source": [
    "eq_pivot = eq_df.pivot('Date', 'Symbol', 'Close')\n",
    "eq_pivot.head()"
   ]
  },
  {
   "cell_type": "code",
   "execution_count": 4,
   "metadata": {},
   "outputs": [
    {
     "data": {
      "text/html": [
       "<div>\n",
       "<style scoped>\n",
       "    .dataframe tbody tr th:only-of-type {\n",
       "        vertical-align: middle;\n",
       "    }\n",
       "\n",
       "    .dataframe tbody tr th {\n",
       "        vertical-align: top;\n",
       "    }\n",
       "\n",
       "    .dataframe thead th {\n",
       "        text-align: right;\n",
       "    }\n",
       "</style>\n",
       "<table border=\"1\" class=\"dataframe\">\n",
       "  <thead>\n",
       "    <tr style=\"text-align: right;\">\n",
       "      <th>Symbol</th>\n",
       "      <th>AAPL</th>\n",
       "      <th>AMZN</th>\n",
       "      <th>APA</th>\n",
       "      <th>AXP</th>\n",
       "      <th>KO</th>\n",
       "      <th>NFLX</th>\n",
       "      <th>SU</th>\n",
       "      <th>TSLA</th>\n",
       "      <th>UAA</th>\n",
       "      <th>XRX</th>\n",
       "    </tr>\n",
       "  </thead>\n",
       "  <tbody>\n",
       "    <tr>\n",
       "      <td>AAPL</td>\n",
       "      <td>1.000000</td>\n",
       "      <td>0.951481</td>\n",
       "      <td>-0.820949</td>\n",
       "      <td>0.743177</td>\n",
       "      <td>0.762211</td>\n",
       "      <td>0.917011</td>\n",
       "      <td>-0.466784</td>\n",
       "      <td>0.878605</td>\n",
       "      <td>0.045827</td>\n",
       "      <td>0.035920</td>\n",
       "    </tr>\n",
       "    <tr>\n",
       "      <td>AMZN</td>\n",
       "      <td>0.951481</td>\n",
       "      <td>1.000000</td>\n",
       "      <td>-0.843161</td>\n",
       "      <td>0.756035</td>\n",
       "      <td>0.751144</td>\n",
       "      <td>0.984451</td>\n",
       "      <td>-0.396162</td>\n",
       "      <td>0.786690</td>\n",
       "      <td>-0.009622</td>\n",
       "      <td>0.018088</td>\n",
       "    </tr>\n",
       "    <tr>\n",
       "      <td>APA</td>\n",
       "      <td>-0.820949</td>\n",
       "      <td>-0.843161</td>\n",
       "      <td>1.000000</td>\n",
       "      <td>-0.746565</td>\n",
       "      <td>-0.829996</td>\n",
       "      <td>-0.837854</td>\n",
       "      <td>0.565823</td>\n",
       "      <td>-0.617243</td>\n",
       "      <td>-0.324183</td>\n",
       "      <td>-0.092226</td>\n",
       "    </tr>\n",
       "    <tr>\n",
       "      <td>AXP</td>\n",
       "      <td>0.743177</td>\n",
       "      <td>0.756035</td>\n",
       "      <td>-0.746565</td>\n",
       "      <td>1.000000</td>\n",
       "      <td>0.882791</td>\n",
       "      <td>0.780781</td>\n",
       "      <td>-0.063397</td>\n",
       "      <td>0.482863</td>\n",
       "      <td>0.285441</td>\n",
       "      <td>0.480875</td>\n",
       "    </tr>\n",
       "    <tr>\n",
       "      <td>KO</td>\n",
       "      <td>0.762211</td>\n",
       "      <td>0.751144</td>\n",
       "      <td>-0.829996</td>\n",
       "      <td>0.882791</td>\n",
       "      <td>1.000000</td>\n",
       "      <td>0.741322</td>\n",
       "      <td>-0.264122</td>\n",
       "      <td>0.521909</td>\n",
       "      <td>0.395468</td>\n",
       "      <td>0.336475</td>\n",
       "    </tr>\n",
       "    <tr>\n",
       "      <td>NFLX</td>\n",
       "      <td>0.917011</td>\n",
       "      <td>0.984451</td>\n",
       "      <td>-0.837854</td>\n",
       "      <td>0.780781</td>\n",
       "      <td>0.741322</td>\n",
       "      <td>1.000000</td>\n",
       "      <td>-0.315429</td>\n",
       "      <td>0.726179</td>\n",
       "      <td>0.017299</td>\n",
       "      <td>0.090728</td>\n",
       "    </tr>\n",
       "    <tr>\n",
       "      <td>SU</td>\n",
       "      <td>-0.466784</td>\n",
       "      <td>-0.396162</td>\n",
       "      <td>0.565823</td>\n",
       "      <td>-0.063397</td>\n",
       "      <td>-0.264122</td>\n",
       "      <td>-0.315429</td>\n",
       "      <td>1.000000</td>\n",
       "      <td>-0.558815</td>\n",
       "      <td>-0.127772</td>\n",
       "      <td>0.421392</td>\n",
       "    </tr>\n",
       "    <tr>\n",
       "      <td>TSLA</td>\n",
       "      <td>0.878605</td>\n",
       "      <td>0.786690</td>\n",
       "      <td>-0.617243</td>\n",
       "      <td>0.482863</td>\n",
       "      <td>0.521909</td>\n",
       "      <td>0.726179</td>\n",
       "      <td>-0.558815</td>\n",
       "      <td>1.000000</td>\n",
       "      <td>-0.019781</td>\n",
       "      <td>-0.114668</td>\n",
       "    </tr>\n",
       "    <tr>\n",
       "      <td>UAA</td>\n",
       "      <td>0.045827</td>\n",
       "      <td>-0.009622</td>\n",
       "      <td>-0.324183</td>\n",
       "      <td>0.285441</td>\n",
       "      <td>0.395468</td>\n",
       "      <td>0.017299</td>\n",
       "      <td>-0.127772</td>\n",
       "      <td>-0.019781</td>\n",
       "      <td>1.000000</td>\n",
       "      <td>0.400279</td>\n",
       "    </tr>\n",
       "    <tr>\n",
       "      <td>XRX</td>\n",
       "      <td>0.035920</td>\n",
       "      <td>0.018088</td>\n",
       "      <td>-0.092226</td>\n",
       "      <td>0.480875</td>\n",
       "      <td>0.336475</td>\n",
       "      <td>0.090728</td>\n",
       "      <td>0.421392</td>\n",
       "      <td>-0.114668</td>\n",
       "      <td>0.400279</td>\n",
       "      <td>1.000000</td>\n",
       "    </tr>\n",
       "  </tbody>\n",
       "</table>\n",
       "</div>"
      ],
      "text/plain": [
       "Symbol      AAPL      AMZN       APA       AXP        KO      NFLX        SU  \\\n",
       "AAPL    1.000000  0.951481 -0.820949  0.743177  0.762211  0.917011 -0.466784   \n",
       "AMZN    0.951481  1.000000 -0.843161  0.756035  0.751144  0.984451 -0.396162   \n",
       "APA    -0.820949 -0.843161  1.000000 -0.746565 -0.829996 -0.837854  0.565823   \n",
       "AXP     0.743177  0.756035 -0.746565  1.000000  0.882791  0.780781 -0.063397   \n",
       "KO      0.762211  0.751144 -0.829996  0.882791  1.000000  0.741322 -0.264122   \n",
       "NFLX    0.917011  0.984451 -0.837854  0.780781  0.741322  1.000000 -0.315429   \n",
       "SU     -0.466784 -0.396162  0.565823 -0.063397 -0.264122 -0.315429  1.000000   \n",
       "TSLA    0.878605  0.786690 -0.617243  0.482863  0.521909  0.726179 -0.558815   \n",
       "UAA     0.045827 -0.009622 -0.324183  0.285441  0.395468  0.017299 -0.127772   \n",
       "XRX     0.035920  0.018088 -0.092226  0.480875  0.336475  0.090728  0.421392   \n",
       "\n",
       "Symbol      TSLA       UAA       XRX  \n",
       "AAPL    0.878605  0.045827  0.035920  \n",
       "AMZN    0.786690 -0.009622  0.018088  \n",
       "APA    -0.617243 -0.324183 -0.092226  \n",
       "AXP     0.482863  0.285441  0.480875  \n",
       "KO      0.521909  0.395468  0.336475  \n",
       "NFLX    0.726179  0.017299  0.090728  \n",
       "SU     -0.558815 -0.127772  0.421392  \n",
       "TSLA    1.000000 -0.019781 -0.114668  \n",
       "UAA    -0.019781  1.000000  0.400279  \n",
       "XRX    -0.114668  0.400279  1.000000  "
      ]
     },
     "execution_count": 4,
     "metadata": {},
     "output_type": "execute_result"
    }
   ],
   "source": [
    "corr_matrix = eq_pivot.corr(method='pearson')\n",
    "corr_matrix.head().reset_index()\n",
    "del corr_matrix.index.name\n",
    "corr_matrix"
   ]
  },
  {
   "cell_type": "markdown",
   "metadata": {},
   "source": [
    "# Correlation heatmap\n",
    "\n",
    "We can verify that we got a good mix of stocks which do not have a general tendencey to follow the same direction with each other"
   ]
  },
  {
   "cell_type": "code",
   "execution_count": 5,
   "metadata": {},
   "outputs": [
    {
     "data": {
      "image/png": "[encoded data removed]",
      "text/plain": [
       "<Figure size 432x288 with 2 Axes>"
      ]
     },
     "metadata": {
      "needs_background": "light"
     },
     "output_type": "display_data"
    }
   ],
   "source": [
    "mask = np.zeros_like(corr_matrix)\n",
    "mask[np.triu_indices_from(mask)] = True\n",
    "#generate plot\n",
    "sns.heatmap(corr_matrix, cmap='RdYlGn', vmax=1.0, vmin=-1.0 , mask = mask, linewidths=2.5)\n",
    "plt.yticks(rotation=0) \n",
    "plt.xticks(rotation=90) \n",
    "plt.show()"
   ]
  },
  {
   "cell_type": "markdown",
   "metadata": {},
   "source": [
    "# Wealth Plot\n",
    "\n",
    "The wealth plot tells us how how much we would have at a point t in time, if we were to buy and hold"
   ]
  },
  {
   "cell_type": "code",
   "execution_count": 6,
   "metadata": {},
   "outputs": [
    {
     "name": "stderr",
     "output_type": "stream",
     "text": [
      "C:\\Users\\Marcus\\Anaconda3\\lib\\site-packages\\ipykernel_launcher.py:7: SettingWithCopyWarning: \n",
      "A value is trying to be set on a copy of a slice from a DataFrame.\n",
      "Try using .loc[row_indexer,col_indexer] = value instead\n",
      "\n",
      "See the caveats in the documentation: http://pandas.pydata.org/pandas-docs/stable/user_guide/indexing.html#returning-a-view-versus-a-copy\n",
      "  import sys\n"
     ]
    }
   ],
   "source": [
    "spy_data = web.DataReader('SPY', 'yahoo', '2010-01-02') # 1) Load web data\n",
    "brka_data = pd.read_csv(\"data/BRK-A.csv\", parse_dates=True, index_col=0) # 2) Load csv\n",
    "brka_data.index = pd.to_datetime(brka_data.index, format=\"%Y-%m-%d\")\n",
    "brka_recent = brka_data[\"2010\":]\n",
    "\n",
    "spy_data[\"rets\"] = (spy_data[\"Close\"] - spy_data[\"Open\"]) / spy_data[\"Open\"]\n",
    "brka_recent[\"rets\"] = (brka_recent[\"Close\"] - brka_recent[\"Open\"]) / brka_recent[\"Open\"]\n"
   ]
  },
  {
   "cell_type": "code",
   "execution_count": 7,
   "metadata": {},
   "outputs": [
    {
     "data": {
      "text/plain": [
       "<matplotlib.axes._subplots.AxesSubplot at 0x11dd92ad148>"
      ]
     },
     "execution_count": 7,
     "metadata": {},
     "output_type": "execute_result"
    },
    {
     "data": {
      "image/png": "[encoded data removed]",
      "text/plain": [
       "<Figure size 864x432 with 1 Axes>"
      ]
     },
     "metadata": {
      "needs_background": "light"
     },
     "output_type": "display_data"
    }
   ],
   "source": [
    "spy_wealth = 1000*(1+spy_data[\"rets\"]).cumprod()\n",
    "brka_wealth = 1000*(1+brka_recent[\"rets\"]).cumprod()\n",
    "brka_wealth.plot.line(label=\"BRKA\", legend=True, figsize=(12,6))\n",
    "spy_wealth.plot.line(label=\"SPY\", legend=True)"
   ]
  },
  {
   "cell_type": "code",
   "execution_count": 11,
   "metadata": {},
   "outputs": [
    {
     "name": "stdout",
     "output_type": "stream",
     "text": [
      "Berkshire Analysis:\n",
      "\tExpected annual return: 0.091372\n",
      "\tAnnual Volatility: 0.157096\n",
      "\tSharpe ratio: 0.581088\n"
     ]
    }
   ],
   "source": [
    "import utils as utils\n",
    "rfr = 1.02**(1/252)-1 # PyPortfolioOpt default rate for consistency\n",
    "brk_rets = utils.annualize_rets(brka_recent[\"rets\"], 12)\n",
    "brk_vol = utils.annualize_vol(brka_recent[\"rets\"], 12)\n",
    "brk_sharpe = utils.sharpe_ratio(brka_recent[\"rets\"],rfr, 12)\n",
    "print(\"Berkshire Analysis:\")\n",
    "print(\"\\tExpected annual return: %f\\n\\tAnnual Volatility: %f\\n\\tSharpe ratio: %f\" % (brk_rets, brk_vol, brk_sharpe))"
   ]
  },
  {
   "cell_type": "markdown",
   "metadata": {},
   "source": [
    "# Efficient Frontier\n",
    "I have extracted a summary of what is Efficient Frontier from investopedia's website https://www.investopedia.com/terms/e/efficientfrontier.asp\n",
    "\n",
    "\"What Is the Efficient Frontier?\n",
    "The efficient frontier is the set of optimal portfolios that offer the highest expected return for a defined level of risk or the lowest risk for a given level of expected return. Portfolios that lie below the efficient frontier are sub-optimal because they do not provide enough return for the level of risk. Portfolios that cluster to the right of the efficient frontier are sub-optimal because they have a higher level of risk for the defined rate of return.\""
   ]
  },
  {
   "cell_type": "code",
   "execution_count": 12,
   "metadata": {},
   "outputs": [
    {
     "data": {
      "image/png": "[encoded data removed]",
      "text/plain": [
       "<Figure size 432x288 with 1 Axes>"
      ]
     },
     "metadata": {
      "needs_background": "light"
     },
     "output_type": "display_data"
    },
    {
     "data": {
      "text/plain": [
       "<matplotlib.axes._subplots.AxesSubplot at 0x11dd9325488>"
      ]
     },
     "execution_count": 12,
     "metadata": {},
     "output_type": "execute_result"
    }
   ],
   "source": [
    "from pypfopt.efficient_frontier import EfficientFrontier\n",
    "from pypfopt import risk_models\n",
    "from pypfopt import expected_returns\n",
    "from pypfopt import plotting\n",
    "from pypfopt import cla\n",
    "# Read in price data\n",
    "\n",
    "# Calculate expected returns and sample covariance\n",
    "mu = expected_returns.mean_historical_return(eq_pivot)\n",
    "S = risk_models.sample_cov(eq_pivot)\n",
    "\n",
    "# Optimise for maximal Sharpe ratio\n",
    "cla = cla.CLA(mu, S, weight_bounds=(-1,1))\n",
    "plotting.plot_efficient_frontier(cla, points=100, show_assets=True)"
   ]
  },
  {
   "cell_type": "code",
   "execution_count": 13,
   "metadata": {},
   "outputs": [
    {
     "data": {
      "text/html": [
       "<div>\n",
       "<style scoped>\n",
       "    .dataframe tbody tr th:only-of-type {\n",
       "        vertical-align: middle;\n",
       "    }\n",
       "\n",
       "    .dataframe tbody tr th {\n",
       "        vertical-align: top;\n",
       "    }\n",
       "\n",
       "    .dataframe thead th {\n",
       "        text-align: right;\n",
       "    }\n",
       "</style>\n",
       "<table border=\"1\" class=\"dataframe\">\n",
       "  <thead>\n",
       "    <tr style=\"text-align: right;\">\n",
       "      <th></th>\n",
       "      <th>Symbol</th>\n",
       "      <th>Weights</th>\n",
       "    </tr>\n",
       "  </thead>\n",
       "  <tbody>\n",
       "    <tr>\n",
       "      <td>0</td>\n",
       "      <td>AAPL</td>\n",
       "      <td>0.537174</td>\n",
       "    </tr>\n",
       "    <tr>\n",
       "      <td>1</td>\n",
       "      <td>AMZN</td>\n",
       "      <td>0.322244</td>\n",
       "    </tr>\n",
       "    <tr>\n",
       "      <td>2</td>\n",
       "      <td>APA</td>\n",
       "      <td>-0.202081</td>\n",
       "    </tr>\n",
       "    <tr>\n",
       "      <td>3</td>\n",
       "      <td>AXP</td>\n",
       "      <td>0.103708</td>\n",
       "    </tr>\n",
       "    <tr>\n",
       "      <td>4</td>\n",
       "      <td>KO</td>\n",
       "      <td>0.150850</td>\n",
       "    </tr>\n",
       "    <tr>\n",
       "      <td>5</td>\n",
       "      <td>NFLX</td>\n",
       "      <td>0.227373</td>\n",
       "    </tr>\n",
       "    <tr>\n",
       "      <td>6</td>\n",
       "      <td>SU</td>\n",
       "      <td>-0.290719</td>\n",
       "    </tr>\n",
       "    <tr>\n",
       "      <td>7</td>\n",
       "      <td>TSLA</td>\n",
       "      <td>0.282985</td>\n",
       "    </tr>\n",
       "    <tr>\n",
       "      <td>8</td>\n",
       "      <td>UAA</td>\n",
       "      <td>0.088930</td>\n",
       "    </tr>\n",
       "    <tr>\n",
       "      <td>9</td>\n",
       "      <td>XRX</td>\n",
       "      <td>-0.220463</td>\n",
       "    </tr>\n",
       "  </tbody>\n",
       "</table>\n",
       "</div>"
      ],
      "text/plain": [
       "  Symbol   Weights\n",
       "0   AAPL  0.537174\n",
       "1   AMZN  0.322244\n",
       "2    APA -0.202081\n",
       "3    AXP  0.103708\n",
       "4     KO  0.150850\n",
       "5   NFLX  0.227373\n",
       "6     SU -0.290719\n",
       "7   TSLA  0.282985\n",
       "8    UAA  0.088930\n",
       "9    XRX -0.220463"
      ]
     },
     "execution_count": 13,
     "metadata": {},
     "output_type": "execute_result"
    }
   ],
   "source": [
    "weights_df = pd.DataFrame(mu.index)\n",
    "weights_df[\"Weights\"] = cla.weights\n",
    "weights_df"
   ]
  },
  {
   "cell_type": "code",
   "execution_count": null,
   "metadata": {},
   "outputs": [],
   "source": [
    "print(\"EF Portfolio Analysis:\")\n",
    "print(\"\\tExpected annual return: %f\\n\\tAnnual Volatility: %f\\n\\tSharpe ratio: %f\" % (cla.portfolio_performance()))\n",
    "print(\"Berkshire Analysis:\")\n",
    "print(\"\\tExpected annual return: %f\\n\\tAnnual Volatility: %f\\n\\tSharpe ratio: %f\" % (brk_rets, brk_vol, brk_sharpe))"
   ]
  },
  {
   "cell_type": "code",
   "execution_count": null,
   "metadata": {},
   "outputs": [],
   "source": []
  }
 ],
 "metadata": {
  "kernelspec": {
   "display_name": "Python 3",
   "language": "python",
   "name": "python3"
  },
  "language_info": {
   "codemirror_mode": {
    "name": "ipython",
    "version": 3
   },
   "file_extension": ".py",
   "mimetype": "text/x-python",
   "name": "python",
   "nbconvert_exporter": "python",
   "pygments_lexer": "ipython3",
   "version": "3.7.4"
  }
 },
 "nbformat": 4,
 "nbformat_minor": 4
}
