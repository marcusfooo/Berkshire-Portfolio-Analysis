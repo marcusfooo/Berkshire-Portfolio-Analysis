{
 "cells": [
  {
   "cell_type": "code",
   "execution_count": 1,
   "metadata": {},
   "outputs": [],
   "source": [
    "#!pip install pandas_datareader -q\n",
    "#!pip install PyPortfolioOpt -q"
   ]
  },
  {
   "cell_type": "code",
   "execution_count": 2,
   "metadata": {},
   "outputs": [],
   "source": [
    "import numpy as np\n",
    "import pandas as pd\n",
    "import pandas_datareader as web\n",
    "from datetime import datetime\n",
    "import matplotlib.pyplot as plt\n",
    "import seaborn as sns\n",
    "import pypfopt\n",
    "%load_ext autoreload\n",
    "%autoreload 2\n"
   ]
  },
  {
   "cell_type": "markdown",
   "metadata": {},
   "source": [
    "# Stock Selection\n",
    "\n",
    "BRKA portfolio tracker: https://www.dataroma.com/m/holdings.php?m=BRK \n",
    "\n",
    "Here, we referred to the link above to identify what are the major components of the Berkshire Portfolio.\n",
    "\n",
    "We try to select a manageable number of stocks, in this case 10, which are generally uncorrelated with each other to allow us to build a more stable portfolio."
   ]
  },
  {
   "cell_type": "code",
   "execution_count": 3,
   "metadata": {},
   "outputs": [
    {
     "data": {
      "text/html": [
       "<div>\n",
       "<style scoped>\n",
       "    .dataframe tbody tr th:only-of-type {\n",
       "        vertical-align: middle;\n",
       "    }\n",
       "\n",
       "    .dataframe tbody tr th {\n",
       "        vertical-align: top;\n",
       "    }\n",
       "\n",
       "    .dataframe thead th {\n",
       "        text-align: right;\n",
       "    }\n",
       "</style>\n",
       "<table border=\"1\" class=\"dataframe\">\n",
       "  <thead>\n",
       "    <tr style=\"text-align: right;\">\n",
       "      <th></th>\n",
       "      <th>Date</th>\n",
       "      <th>Adj Close</th>\n",
       "      <th>Symbol</th>\n",
       "    </tr>\n",
       "  </thead>\n",
       "  <tbody>\n",
       "    <tr>\n",
       "      <th>0</th>\n",
       "      <td>2009-12-31</td>\n",
       "      <td>6.492372</td>\n",
       "      <td>AAPL</td>\n",
       "    </tr>\n",
       "    <tr>\n",
       "      <th>1</th>\n",
       "      <td>2010-01-04</td>\n",
       "      <td>6.593426</td>\n",
       "      <td>AAPL</td>\n",
       "    </tr>\n",
       "    <tr>\n",
       "      <th>2</th>\n",
       "      <td>2010-01-05</td>\n",
       "      <td>6.604825</td>\n",
       "      <td>AAPL</td>\n",
       "    </tr>\n",
       "    <tr>\n",
       "      <th>3</th>\n",
       "      <td>2010-01-06</td>\n",
       "      <td>6.499768</td>\n",
       "      <td>AAPL</td>\n",
       "    </tr>\n",
       "    <tr>\n",
       "      <th>4</th>\n",
       "      <td>2010-01-07</td>\n",
       "      <td>6.487752</td>\n",
       "      <td>AAPL</td>\n",
       "    </tr>\n",
       "  </tbody>\n",
       "</table>\n",
       "</div>"
      ],
      "text/plain": [
       "        Date  Adj Close Symbol\n",
       "0 2009-12-31   6.492372   AAPL\n",
       "1 2010-01-04   6.593426   AAPL\n",
       "2 2010-01-05   6.604825   AAPL\n",
       "3 2010-01-06   6.499768   AAPL\n",
       "4 2010-01-07   6.487752   AAPL"
      ]
     },
     "execution_count": 3,
     "metadata": {},
     "output_type": "execute_result"
    }
   ],
   "source": [
    "start = datetime(2010, 1, 1)\n",
    "symbols_list = ['AAPL', 'AXP', 'UAA', 'APA', 'SU', 'NFLX', 'XRX','AMZN', 'KO', 'TSLA']\n",
    "\n",
    "symbols = []\n",
    "for ticker in symbols_list:\n",
    "    r = web.DataReader(ticker, 'yahoo', start)\n",
    "    r[\"Symbol\"] = ticker\n",
    "    symbols.append(r)\n",
    "    \n",
    "eq_df = pd.concat(symbols).reset_index()\n",
    "eq_df = eq_df[['Date', 'Adj Close', 'Symbol']]\n",
    "eq_df.head()"
   ]
  },
  {
   "cell_type": "code",
   "execution_count": 4,
   "metadata": {},
   "outputs": [
    {
     "data": {
      "text/html": [
       "<div>\n",
       "<style scoped>\n",
       "    .dataframe tbody tr th:only-of-type {\n",
       "        vertical-align: middle;\n",
       "    }\n",
       "\n",
       "    .dataframe tbody tr th {\n",
       "        vertical-align: top;\n",
       "    }\n",
       "\n",
       "    .dataframe thead th {\n",
       "        text-align: right;\n",
       "    }\n",
       "</style>\n",
       "<table border=\"1\" class=\"dataframe\">\n",
       "  <thead>\n",
       "    <tr style=\"text-align: right;\">\n",
       "      <th>Symbol</th>\n",
       "      <th>AAPL</th>\n",
       "      <th>AMZN</th>\n",
       "      <th>APA</th>\n",
       "      <th>AXP</th>\n",
       "      <th>KO</th>\n",
       "      <th>NFLX</th>\n",
       "      <th>SU</th>\n",
       "      <th>TSLA</th>\n",
       "      <th>UAA</th>\n",
       "      <th>XRX</th>\n",
       "    </tr>\n",
       "    <tr>\n",
       "      <th>Date</th>\n",
       "      <th></th>\n",
       "      <th></th>\n",
       "      <th></th>\n",
       "      <th></th>\n",
       "      <th></th>\n",
       "      <th></th>\n",
       "      <th></th>\n",
       "      <th></th>\n",
       "      <th></th>\n",
       "      <th></th>\n",
       "    </tr>\n",
       "  </thead>\n",
       "  <tbody>\n",
       "    <tr>\n",
       "      <th>2009-12-31</th>\n",
       "      <td>6.492372</td>\n",
       "      <td>134.520004</td>\n",
       "      <td>86.816673</td>\n",
       "      <td>34.291534</td>\n",
       "      <td>18.804321</td>\n",
       "      <td>7.870000</td>\n",
       "      <td>25.900511</td>\n",
       "      <td>NaN</td>\n",
       "      <td>3.40875</td>\n",
       "      <td>16.380875</td>\n",
       "    </tr>\n",
       "    <tr>\n",
       "      <th>2010-01-04</th>\n",
       "      <td>6.593426</td>\n",
       "      <td>133.899994</td>\n",
       "      <td>89.088692</td>\n",
       "      <td>34.630035</td>\n",
       "      <td>18.817513</td>\n",
       "      <td>7.640000</td>\n",
       "      <td>26.964104</td>\n",
       "      <td>NaN</td>\n",
       "      <td>3.51000</td>\n",
       "      <td>16.710045</td>\n",
       "    </tr>\n",
       "    <tr>\n",
       "      <th>2010-01-05</th>\n",
       "      <td>6.604825</td>\n",
       "      <td>134.690002</td>\n",
       "      <td>90.140579</td>\n",
       "      <td>34.553879</td>\n",
       "      <td>18.589882</td>\n",
       "      <td>7.358572</td>\n",
       "      <td>27.338200</td>\n",
       "      <td>NaN</td>\n",
       "      <td>3.61500</td>\n",
       "      <td>16.729410</td>\n",
       "    </tr>\n",
       "    <tr>\n",
       "      <th>2010-01-06</th>\n",
       "      <td>6.499768</td>\n",
       "      <td>132.250000</td>\n",
       "      <td>91.554268</td>\n",
       "      <td>35.112431</td>\n",
       "      <td>18.583282</td>\n",
       "      <td>7.617143</td>\n",
       "      <td>27.881002</td>\n",
       "      <td>NaN</td>\n",
       "      <td>3.69500</td>\n",
       "      <td>16.574509</td>\n",
       "    </tr>\n",
       "    <tr>\n",
       "      <th>2010-01-07</th>\n",
       "      <td>6.487752</td>\n",
       "      <td>130.000000</td>\n",
       "      <td>90.165810</td>\n",
       "      <td>35.681915</td>\n",
       "      <td>18.537094</td>\n",
       "      <td>7.485714</td>\n",
       "      <td>27.514252</td>\n",
       "      <td>NaN</td>\n",
       "      <td>3.65125</td>\n",
       "      <td>16.651955</td>\n",
       "    </tr>\n",
       "  </tbody>\n",
       "</table>\n",
       "</div>"
      ],
      "text/plain": [
       "Symbol          AAPL        AMZN        APA        AXP         KO      NFLX  \\\n",
       "Date                                                                          \n",
       "2009-12-31  6.492372  134.520004  86.816673  34.291534  18.804321  7.870000   \n",
       "2010-01-04  6.593426  133.899994  89.088692  34.630035  18.817513  7.640000   \n",
       "2010-01-05  6.604825  134.690002  90.140579  34.553879  18.589882  7.358572   \n",
       "2010-01-06  6.499768  132.250000  91.554268  35.112431  18.583282  7.617143   \n",
       "2010-01-07  6.487752  130.000000  90.165810  35.681915  18.537094  7.485714   \n",
       "\n",
       "Symbol             SU  TSLA      UAA        XRX  \n",
       "Date                                             \n",
       "2009-12-31  25.900511   NaN  3.40875  16.380875  \n",
       "2010-01-04  26.964104   NaN  3.51000  16.710045  \n",
       "2010-01-05  27.338200   NaN  3.61500  16.729410  \n",
       "2010-01-06  27.881002   NaN  3.69500  16.574509  \n",
       "2010-01-07  27.514252   NaN  3.65125  16.651955  "
      ]
     },
     "execution_count": 4,
     "metadata": {},
     "output_type": "execute_result"
    }
   ],
   "source": [
    "eq_pivot = eq_df.pivot('Date', 'Symbol', 'Adj Close')\n",
    "eq_pivot.head()"
   ]
  },
  {
   "cell_type": "code",
   "execution_count": 5,
   "metadata": {},
   "outputs": [
    {
     "data": {
      "text/html": [
       "<div>\n",
       "<style scoped>\n",
       "    .dataframe tbody tr th:only-of-type {\n",
       "        vertical-align: middle;\n",
       "    }\n",
       "\n",
       "    .dataframe tbody tr th {\n",
       "        vertical-align: top;\n",
       "    }\n",
       "\n",
       "    .dataframe thead th {\n",
       "        text-align: right;\n",
       "    }\n",
       "</style>\n",
       "<table border=\"1\" class=\"dataframe\">\n",
       "  <thead>\n",
       "    <tr style=\"text-align: right;\">\n",
       "      <th>Symbol</th>\n",
       "      <th>AAPL</th>\n",
       "      <th>AMZN</th>\n",
       "      <th>APA</th>\n",
       "      <th>AXP</th>\n",
       "      <th>KO</th>\n",
       "      <th>NFLX</th>\n",
       "      <th>SU</th>\n",
       "      <th>TSLA</th>\n",
       "      <th>UAA</th>\n",
       "      <th>XRX</th>\n",
       "    </tr>\n",
       "    <tr>\n",
       "      <th>Symbol</th>\n",
       "      <th></th>\n",
       "      <th></th>\n",
       "      <th></th>\n",
       "      <th></th>\n",
       "      <th></th>\n",
       "      <th></th>\n",
       "      <th></th>\n",
       "      <th></th>\n",
       "      <th></th>\n",
       "      <th></th>\n",
       "    </tr>\n",
       "  </thead>\n",
       "  <tbody>\n",
       "    <tr>\n",
       "      <th>AAPL</th>\n",
       "      <td>1.000000</td>\n",
       "      <td>0.959127</td>\n",
       "      <td>-0.813438</td>\n",
       "      <td>0.766251</td>\n",
       "      <td>0.825692</td>\n",
       "      <td>0.921706</td>\n",
       "      <td>-0.214714</td>\n",
       "      <td>0.880826</td>\n",
       "      <td>0.001576</td>\n",
       "      <td>0.282111</td>\n",
       "    </tr>\n",
       "    <tr>\n",
       "      <th>AMZN</th>\n",
       "      <td>0.959127</td>\n",
       "      <td>1.000000</td>\n",
       "      <td>-0.845696</td>\n",
       "      <td>0.798816</td>\n",
       "      <td>0.846532</td>\n",
       "      <td>0.984514</td>\n",
       "      <td>-0.100152</td>\n",
       "      <td>0.780318</td>\n",
       "      <td>-0.033039</td>\n",
       "      <td>0.302081</td>\n",
       "    </tr>\n",
       "    <tr>\n",
       "      <th>APA</th>\n",
       "      <td>-0.813438</td>\n",
       "      <td>-0.845696</td>\n",
       "      <td>1.000000</td>\n",
       "      <td>-0.777576</td>\n",
       "      <td>-0.885974</td>\n",
       "      <td>-0.843699</td>\n",
       "      <td>0.216796</td>\n",
       "      <td>-0.586810</td>\n",
       "      <td>-0.283729</td>\n",
       "      <td>-0.369745</td>\n",
       "    </tr>\n",
       "    <tr>\n",
       "      <th>AXP</th>\n",
       "      <td>0.766251</td>\n",
       "      <td>0.798816</td>\n",
       "      <td>-0.777576</td>\n",
       "      <td>1.000000</td>\n",
       "      <td>0.921874</td>\n",
       "      <td>0.824764</td>\n",
       "      <td>0.243947</td>\n",
       "      <td>0.504735</td>\n",
       "      <td>0.245040</td>\n",
       "      <td>0.689028</td>\n",
       "    </tr>\n",
       "    <tr>\n",
       "      <th>KO</th>\n",
       "      <td>0.825692</td>\n",
       "      <td>0.846532</td>\n",
       "      <td>-0.885974</td>\n",
       "      <td>0.921874</td>\n",
       "      <td>1.000000</td>\n",
       "      <td>0.844583</td>\n",
       "      <td>0.053362</td>\n",
       "      <td>0.581995</td>\n",
       "      <td>0.311232</td>\n",
       "      <td>0.572401</td>\n",
       "    </tr>\n",
       "    <tr>\n",
       "      <th>NFLX</th>\n",
       "      <td>0.921706</td>\n",
       "      <td>0.984514</td>\n",
       "      <td>-0.843699</td>\n",
       "      <td>0.824764</td>\n",
       "      <td>0.844583</td>\n",
       "      <td>1.000000</td>\n",
       "      <td>-0.000110</td>\n",
       "      <td>0.712565</td>\n",
       "      <td>-0.004456</td>\n",
       "      <td>0.371971</td>\n",
       "    </tr>\n",
       "    <tr>\n",
       "      <th>SU</th>\n",
       "      <td>-0.214714</td>\n",
       "      <td>-0.100152</td>\n",
       "      <td>0.216796</td>\n",
       "      <td>0.243947</td>\n",
       "      <td>0.053362</td>\n",
       "      <td>-0.000110</td>\n",
       "      <td>1.000000</td>\n",
       "      <td>-0.424052</td>\n",
       "      <td>0.013599</td>\n",
       "      <td>0.522297</td>\n",
       "    </tr>\n",
       "    <tr>\n",
       "      <th>TSLA</th>\n",
       "      <td>0.880826</td>\n",
       "      <td>0.780318</td>\n",
       "      <td>-0.586810</td>\n",
       "      <td>0.504735</td>\n",
       "      <td>0.581995</td>\n",
       "      <td>0.712565</td>\n",
       "      <td>-0.424052</td>\n",
       "      <td>1.000000</td>\n",
       "      <td>-0.062603</td>\n",
       "      <td>0.047680</td>\n",
       "    </tr>\n",
       "    <tr>\n",
       "      <th>UAA</th>\n",
       "      <td>0.001576</td>\n",
       "      <td>-0.033039</td>\n",
       "      <td>-0.283729</td>\n",
       "      <td>0.245040</td>\n",
       "      <td>0.311232</td>\n",
       "      <td>-0.004456</td>\n",
       "      <td>0.013599</td>\n",
       "      <td>-0.062603</td>\n",
       "      <td>1.000000</td>\n",
       "      <td>0.410798</td>\n",
       "    </tr>\n",
       "    <tr>\n",
       "      <th>XRX</th>\n",
       "      <td>0.282111</td>\n",
       "      <td>0.302081</td>\n",
       "      <td>-0.369745</td>\n",
       "      <td>0.689028</td>\n",
       "      <td>0.572401</td>\n",
       "      <td>0.371971</td>\n",
       "      <td>0.522297</td>\n",
       "      <td>0.047680</td>\n",
       "      <td>0.410798</td>\n",
       "      <td>1.000000</td>\n",
       "    </tr>\n",
       "  </tbody>\n",
       "</table>\n",
       "</div>"
      ],
      "text/plain": [
       "Symbol      AAPL      AMZN       APA       AXP        KO      NFLX        SU  \\\n",
       "Symbol                                                                         \n",
       "AAPL    1.000000  0.959127 -0.813438  0.766251  0.825692  0.921706 -0.214714   \n",
       "AMZN    0.959127  1.000000 -0.845696  0.798816  0.846532  0.984514 -0.100152   \n",
       "APA    -0.813438 -0.845696  1.000000 -0.777576 -0.885974 -0.843699  0.216796   \n",
       "AXP     0.766251  0.798816 -0.777576  1.000000  0.921874  0.824764  0.243947   \n",
       "KO      0.825692  0.846532 -0.885974  0.921874  1.000000  0.844583  0.053362   \n",
       "NFLX    0.921706  0.984514 -0.843699  0.824764  0.844583  1.000000 -0.000110   \n",
       "SU     -0.214714 -0.100152  0.216796  0.243947  0.053362 -0.000110  1.000000   \n",
       "TSLA    0.880826  0.780318 -0.586810  0.504735  0.581995  0.712565 -0.424052   \n",
       "UAA     0.001576 -0.033039 -0.283729  0.245040  0.311232 -0.004456  0.013599   \n",
       "XRX     0.282111  0.302081 -0.369745  0.689028  0.572401  0.371971  0.522297   \n",
       "\n",
       "Symbol      TSLA       UAA       XRX  \n",
       "Symbol                                \n",
       "AAPL    0.880826  0.001576  0.282111  \n",
       "AMZN    0.780318 -0.033039  0.302081  \n",
       "APA    -0.586810 -0.283729 -0.369745  \n",
       "AXP     0.504735  0.245040  0.689028  \n",
       "KO      0.581995  0.311232  0.572401  \n",
       "NFLX    0.712565 -0.004456  0.371971  \n",
       "SU     -0.424052  0.013599  0.522297  \n",
       "TSLA    1.000000 -0.062603  0.047680  \n",
       "UAA    -0.062603  1.000000  0.410798  \n",
       "XRX     0.047680  0.410798  1.000000  "
      ]
     },
     "execution_count": 5,
     "metadata": {},
     "output_type": "execute_result"
    }
   ],
   "source": [
    "corr_matrix = eq_pivot.corr(method='pearson')\n",
    "corr_matrix.head().reset_index()\n",
    "corr_matrix"
   ]
  },
  {
   "cell_type": "markdown",
   "metadata": {},
   "source": [
    "# Correlation heatmap\n",
    "\n",
    "We can verify that we got a good mix of stocks which do not have a general tendencey to follow the same direction with each other"
   ]
  },
  {
   "cell_type": "code",
   "execution_count": 6,
   "metadata": {},
   "outputs": [
    {
     "data": {
      "image/png": "[encoded data removed]",
      "text/plain": [
       "<Figure size 432x288 with 2 Axes>"
      ]
     },
     "metadata": {
      "needs_background": "light"
     },
     "output_type": "display_data"
    }
   ],
   "source": [
    "mask = np.zeros_like(corr_matrix)\n",
    "mask[np.triu_indices_from(mask)] = True\n",
    "#generate plot\n",
    "sns.heatmap(corr_matrix, cmap='RdYlGn', vmax=1.0, vmin=-1.0 , mask = mask, linewidths=2.5)\n",
    "plt.yticks(rotation=0) \n",
    "plt.xticks(rotation=90) \n",
    "plt.show()"
   ]
  },
  {
   "cell_type": "markdown",
   "metadata": {},
   "source": [
    "# Wealth Plot\n",
    "\n",
    "The wealth plot tells us how how much we would have at a point t in time, if we were to buy and hold"
   ]
  },
  {
   "cell_type": "code",
   "execution_count": 22,
   "metadata": {},
   "outputs": [
    {
     "name": "stderr",
     "output_type": "stream",
     "text": [
      "C:\\Users\\Marcus\\Anaconda3\\lib\\site-packages\\ipykernel_launcher.py:7: SettingWithCopyWarning: \n",
      "A value is trying to be set on a copy of a slice from a DataFrame.\n",
      "Try using .loc[row_indexer,col_indexer] = value instead\n",
      "\n",
      "See the caveats in the documentation: https://pandas.pydata.org/pandas-docs/stable/user_guide/indexing.html#returning-a-view-versus-a-copy\n",
      "  import sys\n"
     ]
    }
   ],
   "source": [
    "spy_data = web.DataReader('SPY', 'yahoo', '2010-01-02') # 1) Load web data\n",
    "brka_data = pd.read_csv(\"data/BRK-A.csv\", parse_dates=True, index_col=0) # 2) Load csv\n",
    "brka_data.index = pd.to_datetime(brka_data.index, format=\"%Y-%m-%d\")\n",
    "brka_recent = brka_data[\"2010\":]\n",
    "\n",
    "spy_data[\"rets\"] = (spy_data[\"Close\"] - spy_data[\"Open\"]) / spy_data[\"Open\"] # Take note here, adjusted close should be used instead\n",
    "brka_recent[\"rets\"] = (brka_recent[\"Adj Close\"] - brka_recent[\"Open\"]) / brka_recent[\"Open\"]\n"
   ]
  },
  {
   "cell_type": "code",
   "execution_count": 23,
   "metadata": {},
   "outputs": [
    {
     "data": {
      "text/plain": [
       "<AxesSubplot:xlabel='Date'>"
      ]
     },
     "execution_count": 23,
     "metadata": {},
     "output_type": "execute_result"
    },
    {
     "data": {
      "image/png": "[encoded data removed]",
      "text/plain": [
       "<Figure size 864x432 with 1 Axes>"
      ]
     },
     "metadata": {
      "needs_background": "light"
     },
     "output_type": "display_data"
    }
   ],
   "source": [
    "spy_wealth = 1000*(1+spy_data[\"rets\"]).cumprod()\n",
    "brka_wealth = 1000*(1+brka_recent[\"rets\"]).cumprod()\n",
    "brka_wealth.plot.line(label=\"BRKA\", legend=True, figsize=(12,6))\n",
    "spy_wealth.plot.line(label=\"SPY\", legend=True)"
   ]
  },
  {
   "cell_type": "code",
   "execution_count": 24,
   "metadata": {},
   "outputs": [
    {
     "name": "stdout",
     "output_type": "stream",
     "text": [
      "Berkshire Analysis:\n",
      "\tExpected annual return: 0.091372\n",
      "\tAnnual Volatility: 0.157096\n",
      "\tSharpe ratio: 0.581088\n"
     ]
    }
   ],
   "source": [
    "import utils as utils\n",
    "rfr = 1.02**(1/252)-1 # PyPortfolioOpt default rate for consistency\n",
    "brk_rets = utils.annualize_rets(brka_recent[\"rets\"], 12)\n",
    "brk_vol = utils.annualize_vol(brka_recent[\"rets\"], 12)\n",
    "brk_sharpe = utils.sharpe_ratio(brka_recent[\"rets\"],rfr, 12)\n",
    "print(\"Berkshire Analysis:\")\n",
    "print(\"\\tExpected annual return: %f\\n\\tAnnual Volatility: %f\\n\\tSharpe ratio: %f\" % (brk_rets, brk_vol, brk_sharpe))"
   ]
  },
  {
   "cell_type": "markdown",
   "metadata": {},
   "source": [
    "# Efficient Frontier\n",
    "I have extracted a summary of what is Efficient Frontier from investopedia's website https://www.investopedia.com/terms/e/efficientfrontier.asp\n",
    "\n",
    "\"What Is the Efficient Frontier?\n",
    "The efficient frontier is the set of optimal portfolios that offer the highest expected return for a defined level of risk or the lowest risk for a given level of expected return. Portfolios that lie below the efficient frontier are sub-optimal because they do not provide enough return for the level of risk. Portfolios that cluster to the right of the efficient frontier are sub-optimal because they have a higher level of risk for the defined rate of return.\""
   ]
  },
  {
   "cell_type": "code",
   "execution_count": 25,
   "metadata": {},
   "outputs": [
    {
     "data": {
      "image/png": "[encoded data removed]",
      "text/plain": [
       "<Figure size 432x288 with 1 Axes>"
      ]
     },
     "metadata": {
      "needs_background": "light"
     },
     "output_type": "display_data"
    },
    {
     "data": {
      "text/plain": [
       "<AxesSubplot:xlabel='Volatility', ylabel='Return'>"
      ]
     },
     "execution_count": 25,
     "metadata": {},
     "output_type": "execute_result"
    }
   ],
   "source": [
    "from pypfopt.efficient_frontier import EfficientFrontier\n",
    "from pypfopt import risk_models\n",
    "from pypfopt import expected_returns\n",
    "from pypfopt import plotting\n",
    "from pypfopt import cla\n",
    "# Read in price data\n",
    "\n",
    "# Calculate expected returns and sample covariance\n",
    "mu = expected_returns.mean_historical_return(eq_pivot)\n",
    "S = risk_models.sample_cov(eq_pivot)\n",
    "\n",
    "# Optimise for maximal Sharpe ratio\n",
    "cla = cla.CLA(mu, S, weight_bounds=(-1,1))\n",
    "plotting.plot_efficient_frontier(cla, points=100, show_assets=True)"
   ]
  },
  {
   "cell_type": "code",
   "execution_count": 26,
   "metadata": {},
   "outputs": [
    {
     "data": {
      "text/html": [
       "<div>\n",
       "<style scoped>\n",
       "    .dataframe tbody tr th:only-of-type {\n",
       "        vertical-align: middle;\n",
       "    }\n",
       "\n",
       "    .dataframe tbody tr th {\n",
       "        vertical-align: top;\n",
       "    }\n",
       "\n",
       "    .dataframe thead th {\n",
       "        text-align: right;\n",
       "    }\n",
       "</style>\n",
       "<table border=\"1\" class=\"dataframe\">\n",
       "  <thead>\n",
       "    <tr style=\"text-align: right;\">\n",
       "      <th></th>\n",
       "      <th>Symbol</th>\n",
       "      <th>Weights</th>\n",
       "    </tr>\n",
       "  </thead>\n",
       "  <tbody>\n",
       "    <tr>\n",
       "      <th>0</th>\n",
       "      <td>AAPL</td>\n",
       "      <td>0.404173</td>\n",
       "    </tr>\n",
       "    <tr>\n",
       "      <th>1</th>\n",
       "      <td>AMZN</td>\n",
       "      <td>0.189641</td>\n",
       "    </tr>\n",
       "    <tr>\n",
       "      <th>2</th>\n",
       "      <td>APA</td>\n",
       "      <td>-0.151316</td>\n",
       "    </tr>\n",
       "    <tr>\n",
       "      <th>3</th>\n",
       "      <td>AXP</td>\n",
       "      <td>0.068222</td>\n",
       "    </tr>\n",
       "    <tr>\n",
       "      <th>4</th>\n",
       "      <td>KO</td>\n",
       "      <td>0.348251</td>\n",
       "    </tr>\n",
       "    <tr>\n",
       "      <th>5</th>\n",
       "      <td>NFLX</td>\n",
       "      <td>0.167782</td>\n",
       "    </tr>\n",
       "    <tr>\n",
       "      <th>6</th>\n",
       "      <td>SU</td>\n",
       "      <td>-0.146276</td>\n",
       "    </tr>\n",
       "    <tr>\n",
       "      <th>7</th>\n",
       "      <td>TSLA</td>\n",
       "      <td>0.226479</td>\n",
       "    </tr>\n",
       "    <tr>\n",
       "      <th>8</th>\n",
       "      <td>UAA</td>\n",
       "      <td>0.064172</td>\n",
       "    </tr>\n",
       "    <tr>\n",
       "      <th>9</th>\n",
       "      <td>XRX</td>\n",
       "      <td>-0.171127</td>\n",
       "    </tr>\n",
       "  </tbody>\n",
       "</table>\n",
       "</div>"
      ],
      "text/plain": [
       "  Symbol   Weights\n",
       "0   AAPL  0.404173\n",
       "1   AMZN  0.189641\n",
       "2    APA -0.151316\n",
       "3    AXP  0.068222\n",
       "4     KO  0.348251\n",
       "5   NFLX  0.167782\n",
       "6     SU -0.146276\n",
       "7   TSLA  0.226479\n",
       "8    UAA  0.064172\n",
       "9    XRX -0.171127"
      ]
     },
     "execution_count": 26,
     "metadata": {},
     "output_type": "execute_result"
    }
   ],
   "source": [
    "weights_df = pd.DataFrame(mu.index)\n",
    "weights_df[\"Weights\"] = cla.weights\n",
    "weights_df"
   ]
  },
  {
   "cell_type": "code",
   "execution_count": 27,
   "metadata": {},
   "outputs": [
    {
     "name": "stdout",
     "output_type": "stream",
     "text": [
      "EF Portfolio Analysis:\n",
      "\tExpected annual return: 0.469901\n",
      "\tAnnual Volatility: 0.274022\n",
      "\tSharpe ratio: 1.641844\n",
      "Berkshire Analysis:\n",
      "\tExpected annual return: 0.091372\n",
      "\tAnnual Volatility: 0.157096\n",
      "\tSharpe ratio: 0.581088\n"
     ]
    }
   ],
   "source": [
    "print(\"EF Portfolio Analysis:\")\n",
    "print(\"\\tExpected annual return: %f\\n\\tAnnual Volatility: %f\\n\\tSharpe ratio: %f\" % (cla.portfolio_performance()))\n",
    "print(\"Berkshire Analysis:\")\n",
    "print(\"\\tExpected annual return: %f\\n\\tAnnual Volatility: %f\\n\\tSharpe ratio: %f\" % (brk_rets, brk_vol, brk_sharpe))"
   ]
  },
  {
   "cell_type": "code",
   "execution_count": null,
   "metadata": {},
   "outputs": [],
   "source": []
  },
  {
   "cell_type": "code",
   "execution_count": null,
   "metadata": {},
   "outputs": [],
   "source": []
  }
 ],
 "metadata": {
  "kernelspec": {
   "display_name": "Python 3",
   "language": "python",
   "name": "python3"
  },
  "language_info": {
   "codemirror_mode": {
    "name": "ipython",
    "version": 3
   },
   "file_extension": ".py",
   "mimetype": "text/x-python",
   "name": "python",
   "nbconvert_exporter": "python",
   "pygments_lexer": "ipython3",
   "version": "3.7.4"
  }
 },
 "nbformat": 4,
 "nbformat_minor": 4
}
